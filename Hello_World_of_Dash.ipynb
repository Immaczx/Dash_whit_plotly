{
  "nbformat": 4,
  "nbformat_minor": 0,
  "metadata": {
    "colab": {
      "name": "Hello World of Dash.ipynb",
      "provenance": [],
      "collapsed_sections": [],
      "include_colab_link": true
    },
    "kernelspec": {
      "name": "python3",
      "display_name": "Python 3"
    },
    "language_info": {
      "name": "python"
    }
  },
  "cells": [
    {
      "cell_type": "markdown",
      "metadata": {
        "id": "view-in-github",
        "colab_type": "text"
      },
      "source": [
        "<a href=\"https://colab.research.google.com/github/Immaczx/Dash_whit_plotly/blob/main/Hello_World_of_Dash.ipynb\" target=\"_parent\"><img src=\"https://colab.research.google.com/assets/colab-badge.svg\" alt=\"Open In Colab\"/></a>"
      ]
    },
    {
      "cell_type": "markdown",
      "metadata": {
        "id": "pi_mARLbZSC-"
      },
      "source": [
        "## Dash\n",
        "\n",
        "Es un framework de código abierto para crear interfaces de visualización de datos, formalmente Dash fue lanzado como una biblioteca de código abierto para crear visualizaciones interactivas basadas en la Web y se construyó sobre Flask, Plotly.js y React Js,  este ha crecido para incluir implementaciones para R y Julia.\n",
        "\n",
        "Pero no tiene que preocuparse por hacer que todas estas tecnologías funcionen juntas, dash permite crear paneles utilizando Python puro. Tener conocimientos de HTML y javascript es útil, pero ciertamente no es necesario para obtener una buena visualización, solo necesita escribir Python, R o Julia y espolvorearlo con un poco de CSS si desea una visualisacion mas profecional."
      ]
    },
    {
      "cell_type": "markdown",
      "metadata": {
        "id": "_papKSRDZnV8"
      },
      "source": [
        "Este Notebook se hizo con la intencion de dar una guia clara para la facil comprencion de estructura, implementacion y posibilidad de la libreria Dash en la creacion de Dashboards. \n",
        "\n",
        "### Links usados para el tutorial\n",
        "\n",
        "https://dash.plotly.com/layout\n",
        "\n",
        "https://pbpython.com/plotly-dash-intro.html\n",
        "\n",
        "https://realpython.com/python-dash/#what-is-dash\n",
        "\n",
        "https://www.datacamp.com/community/tutorials/learn-build-dash-python\n",
        "\n",
        "https://www.youtube.com/watch?v=FxEY1NOyhYQ"
      ]
    },
    {
      "cell_type": "markdown",
      "metadata": {
        "id": "vuF_JqNWP8uc"
      },
      "source": [
        "## Instalar Dash en collab"
      ]
    },
    {
      "cell_type": "markdown",
      "metadata": {
        "id": "UcTMSQnFK9zw"
      },
      "source": [
        "La linea \"pip install jupyter-dash -q\" permite instalar la vercion de Dash propia del compilador jupyter en colab"
      ]
    },
    {
      "cell_type": "code",
      "metadata": {
        "id": "xYtZ7Fu10a-n"
      },
      "source": [
        "pip install jupyter-dash -q "
      ],
      "execution_count": null,
      "outputs": []
    },
    {
      "cell_type": "markdown",
      "metadata": {
        "id": "3WMh-RTbcZK6"
      },
      "source": [
        "## Html components\n",
        "\n",
        "Para hablar de la creacion de visualisaciones en Dash hay que hablar un poco de como costruir con HTML, donde necesitaremos un layout, que contenga bloques(textos y graficas) que querramos incluir mediente el uso de etiquetas son similares a la forma que utilizamos para manipular contenido en latex.\n",
        "\n",
        "Pero en lugar de escribir HTML o usar un motor de plantillas HTML, compondremos nuestro diseño usando estructuras de Python con la dash-html-components biblioteca.\n",
        "\n",
        "### En el siguiente link se encuentran ejemplos ilustrativos la diferencia de contruccion con html y dash.\n",
        "\n",
        "https://dash.plotly.com/dash-html-components\n",
        "\n",
        "Se trajeron los ejemplos de \"contruccion html con dash\" y \"Dash y Markdown\" del link anterior a este notebook.\n",
        "\n",
        "El comando html.Div permite crear secciones independientes dentro del layout.\n",
        "Por otra parte, html.H1 se usa para los títulos, tiene variaciones como H2, H3, ..., H6 para hacer subtítulos. \n",
        "El siguiente componente es html.P se usa para escribir párrafos.\n",
        "Este comando se presenta de dos formas la primera que es la más básica y la segunda la cual es más elaborada donde se usan las propiedades de este componente y dos componentes más.\n",
        "\n",
        "la propiedad children. Por convención, siempre es el primer atributo, lo que significa que puede omitirlo: html.H1 (children = 'Hello Dash') es lo mismo que html.H1 ('Hello Dash'). este puede contener una cadena, un número, un solo componente o una lista de componentes.\n",
        "Además, se usan html.Br() para el salto de página y html.A para incluir enlaces.\n",
        "Por último, se hablara de la propiedad style, esta se agrega mediante un diccionario.\n",
        "\n",
        "Dentro del link anterior al bajar se tiene un listado de los componentes html que se podrían usar en la creación de Dash. \n",
        "\n",
        "En la sección Dash y Markdown se muestra un cuadro de texto y como este mismo de agregaría mediante dcc.Markdown a un Dash."
      ]
    },
    {
      "cell_type": "markdown",
      "metadata": {
        "id": "s5xlCAYt-kxa"
      },
      "source": [
        "### Construccion html con dash"
      ]
    },
    {
      "cell_type": "code",
      "metadata": {
        "colab": {
          "base_uri": "https://localhost:8080/"
        },
        "id": "deMBDubHqWfZ",
        "outputId": "d484490d-84da-4259-cfcb-1220d5200a58"
      },
      "source": [
        "import dash_html_components as html\n",
        "\n",
        "html.Div([\n",
        "    html.H1('Hello world of Dash'),\n",
        "    html.Div([\n",
        "        html.P('Dash convierte las clases de Python en HTML'),\n",
        "        html.P(children=[\"Esta conversión se realiza entre bastidores mediante el front-end JavaScript de Dash\",\n",
        "                        html.Br(),\n",
        "                        html.A(\"https://dash.plotly.com/dash-html-components\",\n",
        "                            href=\"https://dash.plotly.com/dash-html-components\",),\n",
        "                    ],\n",
        "                    style={\"textAlign\": \"center\", \"color\": \"#000000\"},\n",
        "                ),\n",
        "\n",
        "    ])\n",
        "])"
      ],
      "execution_count": null,
      "outputs": [
        {
          "output_type": "execute_result",
          "data": {
            "text/plain": [
              "Div([H1('Hello world of Dash'), Div([P('Dash convierte las clases de Python en HTML'), P(children=['Esta conversión se realiza entre bastidores mediante el front-end JavaScript de Dash', Br(None), A(children='https://dash.plotly.com/dash-html-components', href='https://dash.plotly.com/dash-html-components')], style={'textAlign': 'center', 'color': '#000000'})])])"
            ]
          },
          "metadata": {},
          "execution_count": 17
        }
      ]
    },
    {
      "cell_type": "markdown",
      "metadata": {
        "id": "VQciHUfMcg0C"
      },
      "source": [
        "### Dash y Markdown\n",
        "\n",
        "Soportes Dash [Markdown](http://commonmark.org/help).\n",
        "\n",
        "Markdown es una forma sencilla de escribir y formatear texto.\n",
        "Incluye una sintaxis para cosas como **negrita** y *cursiva*,\n",
        "[links](http://commonmark.org/help), fragmentos de `código` en línea, listas,\n",
        "citas y mucho más."
      ]
    },
    {
      "cell_type": "code",
      "metadata": {
        "colab": {
          "base_uri": "https://localhost:8080/"
        },
        "id": "3M8TXlNCrAKM",
        "outputId": "47f93af3-ce86-4ce7-e8cc-2242388309d0"
      },
      "source": [
        "import dash_core_components as dcc\n",
        "\n",
        "dcc.Markdown('''\n",
        "#### Dash and Markdown\n",
        "\n",
        "Soportes Dash [Markdown](http://commonmark.org/help).\n",
        "\n",
        "Markdown es una forma sencilla de escribir y formatear texto.\n",
        "Incluye una sintaxis para cosas como **negrita** y *cursiva*,\n",
        "[links](http://commonmark.org/help), fragmentos de `código` en línea, listas,\n",
        "citas y mucho más.\n",
        "''')"
      ],
      "execution_count": null,
      "outputs": [
        {
          "output_type": "execute_result",
          "data": {
            "text/plain": [
              "Markdown('\\n#### Dash and Markdown\\n\\nSoportes Dash [Markdown](http://commonmark.org/help).\\n\\nMarkdown es una forma sencilla de escribir y formatear texto.\\nIncluye una sintaxis para cosas como **negrita** y *cursiva*,\\n[links](http://commonmark.org/help), fragmentos de `código` en línea, listas,\\ncitas y mucho más.\\n')"
            ]
          },
          "metadata": {},
          "execution_count": 18
        }
      ]
    },
    {
      "cell_type": "markdown",
      "metadata": {
        "id": "gWiDjH__b-3U"
      },
      "source": [
        "## Graficas\n",
        "\n",
        "Los graficos seran el componentes de principal interes ya que un dashboard es una herramienta de gestión de la información que muestra de manera visual los indicadores clave de desempeño (KPI).\n",
        "\n",
        "Asi que nesesitaremos formas vistosas y eficientes para mostrar estos (KPI), dash ofrece diferentes librerias para graficos\n",
        "ademas de la opcion de los callbacks para graficas interactivas.\n",
        "\n",
        "### En el siguiente link se encuentran ejemplos de las graficas\n",
        "\n",
        "https://dash.plotly.com/dash-core-components/graph\n",
        "\n",
        "### Ejemplos de graficos(chartjs) de html\n",
        "\n",
        "En los siguientes links veremos ejemplos de chartjs en html dado que estos ejemplos son menos comunes en dash, sin embargo, esta sigue sido una opción aunque poco recomendada por el autor de este notebook a no ser que se tenga experiencia en html.\n",
        "\n",
        "https://www.chartjs.org/docs/latest/charts/\n",
        "\n",
        "https://developers.google.com/chart/interactive/docs/gallery/areachart\n",
        "\n",
        "### Ejemplos de funciones usadas para graficar en Dash\n",
        "\n",
        "En las siguientes celdas veremos la forma tradicional de mostrar gráficos en python, en las siguientes dos veremos cómo hacer esto mismo con las librerías más usadas en Dash. \n",
        "\n",
        "Las cuales son Graph Objects(https://plotly.com/python/graph-objects/) y Express (https://plotly.com/python/plotly-express/)"
      ]
    },
    {
      "cell_type": "code",
      "metadata": {
        "colab": {
          "base_uri": "https://localhost:8080/",
          "height": 285
        },
        "id": "PNjDo-1kcG9Q",
        "outputId": "275eb4d5-b6ee-41cf-d2c1-ccaff3d011c5"
      },
      "source": [
        "import numpy as np\n",
        "import matplotlib.pyplot as plt\n",
        "\n",
        "x = np.linspace(0,10,11)\n",
        "\n",
        "mu, sigma = 0, 0.1 # media y desviacion estandar\n",
        "y = np.random.normal(mu, sigma, 11)\n",
        "\n",
        "plt.plot(x,y)"
      ],
      "execution_count": null,
      "outputs": [
        {
          "output_type": "execute_result",
          "data": {
            "text/plain": [
              "[<matplotlib.lines.Line2D at 0x7f7c991f99d0>]"
            ]
          },
          "metadata": {},
          "execution_count": 19
        },
        {
          "output_type": "display_data",
          "data": {
            "image/png": "[encoded data removed]",
            "text/plain": [
              "<Figure size 432x288 with 1 Axes>"
            ]
          },
          "metadata": {
            "needs_background": "light"
          }
        }
      ]
    },
    {
      "cell_type": "code",
      "metadata": {
        "colab": {
          "base_uri": "https://localhost:8080/",
          "height": 542
        },
        "id": "4_aEr8_UhYgn",
        "outputId": "aef07702-2296-4b12-8567-fd3f1185cd93"
      },
      "source": [
        "# Express\n",
        "\n",
        "import plotly.express as px\n",
        "\n",
        "fig = px.line(x=x, y=y)\n",
        "fig.show()"
      ],
      "execution_count": null,
      "outputs": [
        {
          "output_type": "display_data",
          "data": {
            "text/html": [
              "<html>\n",
              "<head><meta charset=\"utf-8\" /></head>\n",
              "<body>\n",
              "    <div>            <script src=\"https://cdnjs.cloudflare.com/ajax/libs/mathjax/2.7.5/MathJax.js?config=TeX-AMS-MML_SVG\"></script><script type=\"text/javascript\">if (window.MathJax) {MathJax.Hub.Config({SVG: {font: \"STIX-Web\"}});}</script>                <script type=\"text/javascript\">window.PlotlyConfig = {MathJaxConfig: 'local'};</script>\n",
              "        <script src=\"https://cdn.plot.ly/plotly-2.4.2.min.js\"></script>                <div id=\"d1dd8ac1-f8d6-4111-9958-c42d1e7f25ba\" class=\"plotly-graph-div\" style=\"height:525px; width:100%;\"></div>            <script type=\"text/javascript\">                                    window.PLOTLYENV=window.PLOTLYENV || {};                                    if (document.getElementById(\"d1dd8ac1-f8d6-4111-9958-c42d1e7f25ba\")) {                    Plotly.newPlot(                        \"d1dd8ac1-f8d6-4111-9958-c42d1e7f25ba\",                        [{\"hovertemplate\":\"x=%{x}<br>y=%{y}<extra></extra>\",\"legendgroup\":\"\",\"line\":{\"color\":\"#636efa\",\"dash\":\"solid\"},\"marker\":{\"symbol\":\"circle\"},\"mode\":\"lines\",\"name\":\"\",\"orientation\":\"v\",\"showlegend\":false,\"type\":\"scatter\",\"x\":[0.0,1.0,2.0,3.0,4.0,5.0,6.0,7.0,8.0,9.0,10.0],\"xaxis\":\"x\",\"y\":[0.179893583332387,-0.026426652040634376,-0.0038794954415738965,0.08664787536213199,0.11895623014471941,0.02840994193064704,-0.04054844443591163,-0.2625491801331906,-0.08410249714362254,-0.046320653595677865,-0.03315930855848906],\"yaxis\":\"y\"}],                        {\"legend\":{\"tracegroupgap\":0},\"margin\":{\"t\":60},\"template\":{\"data\":{\"bar\":[{\"error_x\":{\"color\":\"#2a3f5f\"},\"error_y\":{\"color\":\"#2a3f5f\"},\"marker\":{\"line\":{\"color\":\"#E5ECF6\",\"width\":0.5},\"pattern\":{\"fillmode\":\"overlay\",\"size\":10,\"solidity\":0.2}},\"type\":\"bar\"}],\"barpolar\":[{\"marker\":{\"line\":{\"color\":\"#E5ECF6\",\"width\":0.5},\"pattern\":{\"fillmode\":\"overlay\",\"size\":10,\"solidity\":0.2}},\"type\":\"barpolar\"}],\"carpet\":[{\"aaxis\":{\"endlinecolor\":\"#2a3f5f\",\"gridcolor\":\"white\",\"linecolor\":\"white\",\"minorgridcolor\":\"white\",\"startlinecolor\":\"#2a3f5f\"},\"baxis\":{\"endlinecolor\":\"#2a3f5f\",\"gridcolor\":\"white\",\"linecolor\":\"white\",\"minorgridcolor\":\"white\",\"startlinecolor\":\"#2a3f5f\"},\"type\":\"carpet\"}],\"choropleth\":[{\"colorbar\":{\"outlinewidth\":0,\"ticks\":\"\"},\"type\":\"choropleth\"}],\"contour\":[{\"colorbar\":{\"outlinewidth\":0,\"ticks\":\"\"},\"colorscale\":[[0.0,\"#0d0887\"],[0.1111111111111111,\"#46039f\"],[0.2222222222222222,\"#7201a8\"],[0.3333333333333333,\"#9c179e\"],[0.4444444444444444,\"#bd3786\"],[0.5555555555555556,\"#d8576b\"],[0.6666666666666666,\"#ed7953\"],[0.7777777777777778,\"#fb9f3a\"],[0.8888888888888888,\"#fdca26\"],[1.0,\"#f0f921\"]],\"type\":\"contour\"}],\"contourcarpet\":[{\"colorbar\":{\"outlinewidth\":0,\"ticks\":\"\"},\"type\":\"contourcarpet\"}],\"heatmap\":[{\"colorbar\":{\"outlinewidth\":0,\"ticks\":\"\"},\"colorscale\":[[0.0,\"#0d0887\"],[0.1111111111111111,\"#46039f\"],[0.2222222222222222,\"#7201a8\"],[0.3333333333333333,\"#9c179e\"],[0.4444444444444444,\"#bd3786\"],[0.5555555555555556,\"#d8576b\"],[0.6666666666666666,\"#ed7953\"],[0.7777777777777778,\"#fb9f3a\"],[0.8888888888888888,\"#fdca26\"],[1.0,\"#f0f921\"]],\"type\":\"heatmap\"}],\"heatmapgl\":[{\"colorbar\":{\"outlinewidth\":0,\"ticks\":\"\"},\"colorscale\":[[0.0,\"#0d0887\"],[0.1111111111111111,\"#46039f\"],[0.2222222222222222,\"#7201a8\"],[0.3333333333333333,\"#9c179e\"],[0.4444444444444444,\"#bd3786\"],[0.5555555555555556,\"#d8576b\"],[0.6666666666666666,\"#ed7953\"],[0.7777777777777778,\"#fb9f3a\"],[0.8888888888888888,\"#fdca26\"],[1.0,\"#f0f921\"]],\"type\":\"heatmapgl\"}],\"histogram\":[{\"marker\":{\"pattern\":{\"fillmode\":\"overlay\",\"size\":10,\"solidity\":0.2}},\"type\":\"histogram\"}],\"histogram2d\":[{\"colorbar\":{\"outlinewidth\":0,\"ticks\":\"\"},\"colorscale\":[[0.0,\"#0d0887\"],[0.1111111111111111,\"#46039f\"],[0.2222222222222222,\"#7201a8\"],[0.3333333333333333,\"#9c179e\"],[0.4444444444444444,\"#bd3786\"],[0.5555555555555556,\"#d8576b\"],[0.6666666666666666,\"#ed7953\"],[0.7777777777777778,\"#fb9f3a\"],[0.8888888888888888,\"#fdca26\"],[1.0,\"#f0f921\"]],\"type\":\"histogram2d\"}],\"histogram2dcontour\":[{\"colorbar\":{\"outlinewidth\":0,\"ticks\":\"\"},\"colorscale\":[[0.0,\"#0d0887\"],[0.1111111111111111,\"#46039f\"],[0.2222222222222222,\"#7201a8\"],[0.3333333333333333,\"#9c179e\"],[0.4444444444444444,\"#bd3786\"],[0.5555555555555556,\"#d8576b\"],[0.6666666666666666,\"#ed7953\"],[0.7777777777777778,\"#fb9f3a\"],[0.8888888888888888,\"#fdca26\"],[1.0,\"#f0f921\"]],\"type\":\"histogram2dcontour\"}],\"mesh3d\":[{\"colorbar\":{\"outlinewidth\":0,\"ticks\":\"\"},\"type\":\"mesh3d\"}],\"parcoords\":[{\"line\":{\"colorbar\":{\"outlinewidth\":0,\"ticks\":\"\"}},\"type\":\"parcoords\"}],\"pie\":[{\"automargin\":true,\"type\":\"pie\"}],\"scatter\":[{\"marker\":{\"colorbar\":{\"outlinewidth\":0,\"ticks\":\"\"}},\"type\":\"scatter\"}],\"scatter3d\":[{\"line\":{\"colorbar\":{\"outlinewidth\":0,\"ticks\":\"\"}},\"marker\":{\"colorbar\":{\"outlinewidth\":0,\"ticks\":\"\"}},\"type\":\"scatter3d\"}],\"scattercarpet\":[{\"marker\":{\"colorbar\":{\"outlinewidth\":0,\"ticks\":\"\"}},\"type\":\"scattercarpet\"}],\"scattergeo\":[{\"marker\":{\"colorbar\":{\"outlinewidth\":0,\"ticks\":\"\"}},\"type\":\"scattergeo\"}],\"scattergl\":[{\"marker\":{\"colorbar\":{\"outlinewidth\":0,\"ticks\":\"\"}},\"type\":\"scattergl\"}],\"scattermapbox\":[{\"marker\":{\"colorbar\":{\"outlinewidth\":0,\"ticks\":\"\"}},\"type\":\"scattermapbox\"}],\"scatterpolar\":[{\"marker\":{\"colorbar\":{\"outlinewidth\":0,\"ticks\":\"\"}},\"type\":\"scatterpolar\"}],\"scatterpolargl\":[{\"marker\":{\"colorbar\":{\"outlinewidth\":0,\"ticks\":\"\"}},\"type\":\"scatterpolargl\"}],\"scatterternary\":[{\"marker\":{\"colorbar\":{\"outlinewidth\":0,\"ticks\":\"\"}},\"type\":\"scatterternary\"}],\"surface\":[{\"colorbar\":{\"outlinewidth\":0,\"ticks\":\"\"},\"colorscale\":[[0.0,\"#0d0887\"],[0.1111111111111111,\"#46039f\"],[0.2222222222222222,\"#7201a8\"],[0.3333333333333333,\"#9c179e\"],[0.4444444444444444,\"#bd3786\"],[0.5555555555555556,\"#d8576b\"],[0.6666666666666666,\"#ed7953\"],[0.7777777777777778,\"#fb9f3a\"],[0.8888888888888888,\"#fdca26\"],[1.0,\"#f0f921\"]],\"type\":\"surface\"}],\"table\":[{\"cells\":{\"fill\":{\"color\":\"#EBF0F8\"},\"line\":{\"color\":\"white\"}},\"header\":{\"fill\":{\"color\":\"#C8D4E3\"},\"line\":{\"color\":\"white\"}},\"type\":\"table\"}]},\"layout\":{\"annotationdefaults\":{\"arrowcolor\":\"#2a3f5f\",\"arrowhead\":0,\"arrowwidth\":1},\"autotypenumbers\":\"strict\",\"coloraxis\":{\"colorbar\":{\"outlinewidth\":0,\"ticks\":\"\"}},\"colorscale\":{\"diverging\":[[0,\"#8e0152\"],[0.1,\"#c51b7d\"],[0.2,\"#de77ae\"],[0.3,\"#f1b6da\"],[0.4,\"#fde0ef\"],[0.5,\"#f7f7f7\"],[0.6,\"#e6f5d0\"],[0.7,\"#b8e186\"],[0.8,\"#7fbc41\"],[0.9,\"#4d9221\"],[1,\"#276419\"]],\"sequential\":[[0.0,\"#0d0887\"],[0.1111111111111111,\"#46039f\"],[0.2222222222222222,\"#7201a8\"],[0.3333333333333333,\"#9c179e\"],[0.4444444444444444,\"#bd3786\"],[0.5555555555555556,\"#d8576b\"],[0.6666666666666666,\"#ed7953\"],[0.7777777777777778,\"#fb9f3a\"],[0.8888888888888888,\"#fdca26\"],[1.0,\"#f0f921\"]],\"sequentialminus\":[[0.0,\"#0d0887\"],[0.1111111111111111,\"#46039f\"],[0.2222222222222222,\"#7201a8\"],[0.3333333333333333,\"#9c179e\"],[0.4444444444444444,\"#bd3786\"],[0.5555555555555556,\"#d8576b\"],[0.6666666666666666,\"#ed7953\"],[0.7777777777777778,\"#fb9f3a\"],[0.8888888888888888,\"#fdca26\"],[1.0,\"#f0f921\"]]},\"colorway\":[\"#636efa\",\"#EF553B\",\"#00cc96\",\"#ab63fa\",\"#FFA15A\",\"#19d3f3\",\"#FF6692\",\"#B6E880\",\"#FF97FF\",\"#FECB52\"],\"font\":{\"color\":\"#2a3f5f\"},\"geo\":{\"bgcolor\":\"white\",\"lakecolor\":\"white\",\"landcolor\":\"#E5ECF6\",\"showlakes\":true,\"showland\":true,\"subunitcolor\":\"white\"},\"hoverlabel\":{\"align\":\"left\"},\"hovermode\":\"closest\",\"mapbox\":{\"style\":\"light\"},\"paper_bgcolor\":\"white\",\"plot_bgcolor\":\"#E5ECF6\",\"polar\":{\"angularaxis\":{\"gridcolor\":\"white\",\"linecolor\":\"white\",\"ticks\":\"\"},\"bgcolor\":\"#E5ECF6\",\"radialaxis\":{\"gridcolor\":\"white\",\"linecolor\":\"white\",\"ticks\":\"\"}},\"scene\":{\"xaxis\":{\"backgroundcolor\":\"#E5ECF6\",\"gridcolor\":\"white\",\"gridwidth\":2,\"linecolor\":\"white\",\"showbackground\":true,\"ticks\":\"\",\"zerolinecolor\":\"white\"},\"yaxis\":{\"backgroundcolor\":\"#E5ECF6\",\"gridcolor\":\"white\",\"gridwidth\":2,\"linecolor\":\"white\",\"showbackground\":true,\"ticks\":\"\",\"zerolinecolor\":\"white\"},\"zaxis\":{\"backgroundcolor\":\"#E5ECF6\",\"gridcolor\":\"white\",\"gridwidth\":2,\"linecolor\":\"white\",\"showbackground\":true,\"ticks\":\"\",\"zerolinecolor\":\"white\"}},\"shapedefaults\":{\"line\":{\"color\":\"#2a3f5f\"}},\"ternary\":{\"aaxis\":{\"gridcolor\":\"white\",\"linecolor\":\"white\",\"ticks\":\"\"},\"baxis\":{\"gridcolor\":\"white\",\"linecolor\":\"white\",\"ticks\":\"\"},\"bgcolor\":\"#E5ECF6\",\"caxis\":{\"gridcolor\":\"white\",\"linecolor\":\"white\",\"ticks\":\"\"}},\"title\":{\"x\":0.05},\"xaxis\":{\"automargin\":true,\"gridcolor\":\"white\",\"linecolor\":\"white\",\"ticks\":\"\",\"title\":{\"standoff\":15},\"zerolinecolor\":\"white\",\"zerolinewidth\":2},\"yaxis\":{\"automargin\":true,\"gridcolor\":\"white\",\"linecolor\":\"white\",\"ticks\":\"\",\"title\":{\"standoff\":15},\"zerolinecolor\":\"white\",\"zerolinewidth\":2}}},\"xaxis\":{\"anchor\":\"y\",\"domain\":[0.0,1.0],\"title\":{\"text\":\"x\"}},\"yaxis\":{\"anchor\":\"x\",\"domain\":[0.0,1.0],\"title\":{\"text\":\"y\"}}},                        {\"responsive\": true}                    ).then(function(){\n",
              "                            \n",
              "var gd = document.getElementById('d1dd8ac1-f8d6-4111-9958-c42d1e7f25ba');\n",
              "var x = new MutationObserver(function (mutations, observer) {{\n",
              "        var display = window.getComputedStyle(gd).display;\n",
              "        if (!display || display === 'none') {{\n",
              "            console.log([gd, 'removed!']);\n",
              "            Plotly.purge(gd);\n",
              "            observer.disconnect();\n",
              "        }}\n",
              "}});\n",
              "\n",
              "// Listen for the removal of the full notebook cells\n",
              "var notebookContainer = gd.closest('#notebook-container');\n",
              "if (notebookContainer) {{\n",
              "    x.observe(notebookContainer, {childList: true});\n",
              "}}\n",
              "\n",
              "// Listen for the clearing of the current output cell\n",
              "var outputEl = gd.closest('.output');\n",
              "if (outputEl) {{\n",
              "    x.observe(outputEl, {childList: true});\n",
              "}}\n",
              "\n",
              "                        })                };                            </script>        </div>\n",
              "</body>\n",
              "</html>"
            ]
          },
          "metadata": {}
        }
      ]
    },
    {
      "cell_type": "code",
      "metadata": {
        "colab": {
          "base_uri": "https://localhost:8080/",
          "height": 695
        },
        "id": "rQ3AmfJkhYXt",
        "outputId": "3432f117-d7c0-4704-b456-b5d276a2f977"
      },
      "source": [
        "# Graph Objects\n",
        "\n",
        "import plotly.graph_objects as go\n",
        "\n",
        "fig = go.Figure() \n",
        "\n",
        "fig.add_trace(go.Line(x=x, y=y))\n",
        "\n",
        "fig.show()"
      ],
      "execution_count": null,
      "outputs": [
        {
          "output_type": "stream",
          "name": "stderr",
          "text": [
            "/usr/local/lib/python3.7/dist-packages/plotly/graph_objs/_deprecations.py:385: DeprecationWarning:\n",
            "\n",
            "plotly.graph_objs.Line is deprecated.\n",
            "Please replace it with one of the following more specific types\n",
            "  - plotly.graph_objs.scatter.Line\n",
            "  - plotly.graph_objs.layout.shape.Line\n",
            "  - etc.\n",
            "\n",
            "\n"
          ]
        },
        {
          "output_type": "display_data",
          "data": {
            "text/html": [
              "<html>\n",
              "<head><meta charset=\"utf-8\" /></head>\n",
              "<body>\n",
              "    <div>            <script src=\"https://cdnjs.cloudflare.com/ajax/libs/mathjax/2.7.5/MathJax.js?config=TeX-AMS-MML_SVG\"></script><script type=\"text/javascript\">if (window.MathJax) {MathJax.Hub.Config({SVG: {font: \"STIX-Web\"}});}</script>                <script type=\"text/javascript\">window.PlotlyConfig = {MathJaxConfig: 'local'};</script>\n",
              "        <script src=\"https://cdn.plot.ly/plotly-2.4.2.min.js\"></script>                <div id=\"c917cde2-d693-47a4-bff5-12fe3c9b391c\" class=\"plotly-graph-div\" style=\"height:525px; width:100%;\"></div>            <script type=\"text/javascript\">                                    window.PLOTLYENV=window.PLOTLYENV || {};                                    if (document.getElementById(\"c917cde2-d693-47a4-bff5-12fe3c9b391c\")) {                    Plotly.newPlot(                        \"c917cde2-d693-47a4-bff5-12fe3c9b391c\",                        [{\"type\":\"scatter\",\"x\":[0.0,1.0,2.0,3.0,4.0,5.0,6.0,7.0,8.0,9.0,10.0],\"y\":[0.179893583332387,-0.026426652040634376,-0.0038794954415738965,0.08664787536213199,0.11895623014471941,0.02840994193064704,-0.04054844443591163,-0.2625491801331906,-0.08410249714362254,-0.046320653595677865,-0.03315930855848906]}],                        {\"template\":{\"data\":{\"bar\":[{\"error_x\":{\"color\":\"#2a3f5f\"},\"error_y\":{\"color\":\"#2a3f5f\"},\"marker\":{\"line\":{\"color\":\"#E5ECF6\",\"width\":0.5},\"pattern\":{\"fillmode\":\"overlay\",\"size\":10,\"solidity\":0.2}},\"type\":\"bar\"}],\"barpolar\":[{\"marker\":{\"line\":{\"color\":\"#E5ECF6\",\"width\":0.5},\"pattern\":{\"fillmode\":\"overlay\",\"size\":10,\"solidity\":0.2}},\"type\":\"barpolar\"}],\"carpet\":[{\"aaxis\":{\"endlinecolor\":\"#2a3f5f\",\"gridcolor\":\"white\",\"linecolor\":\"white\",\"minorgridcolor\":\"white\",\"startlinecolor\":\"#2a3f5f\"},\"baxis\":{\"endlinecolor\":\"#2a3f5f\",\"gridcolor\":\"white\",\"linecolor\":\"white\",\"minorgridcolor\":\"white\",\"startlinecolor\":\"#2a3f5f\"},\"type\":\"carpet\"}],\"choropleth\":[{\"colorbar\":{\"outlinewidth\":0,\"ticks\":\"\"},\"type\":\"choropleth\"}],\"contour\":[{\"colorbar\":{\"outlinewidth\":0,\"ticks\":\"\"},\"colorscale\":[[0.0,\"#0d0887\"],[0.1111111111111111,\"#46039f\"],[0.2222222222222222,\"#7201a8\"],[0.3333333333333333,\"#9c179e\"],[0.4444444444444444,\"#bd3786\"],[0.5555555555555556,\"#d8576b\"],[0.6666666666666666,\"#ed7953\"],[0.7777777777777778,\"#fb9f3a\"],[0.8888888888888888,\"#fdca26\"],[1.0,\"#f0f921\"]],\"type\":\"contour\"}],\"contourcarpet\":[{\"colorbar\":{\"outlinewidth\":0,\"ticks\":\"\"},\"type\":\"contourcarpet\"}],\"heatmap\":[{\"colorbar\":{\"outlinewidth\":0,\"ticks\":\"\"},\"colorscale\":[[0.0,\"#0d0887\"],[0.1111111111111111,\"#46039f\"],[0.2222222222222222,\"#7201a8\"],[0.3333333333333333,\"#9c179e\"],[0.4444444444444444,\"#bd3786\"],[0.5555555555555556,\"#d8576b\"],[0.6666666666666666,\"#ed7953\"],[0.7777777777777778,\"#fb9f3a\"],[0.8888888888888888,\"#fdca26\"],[1.0,\"#f0f921\"]],\"type\":\"heatmap\"}],\"heatmapgl\":[{\"colorbar\":{\"outlinewidth\":0,\"ticks\":\"\"},\"colorscale\":[[0.0,\"#0d0887\"],[0.1111111111111111,\"#46039f\"],[0.2222222222222222,\"#7201a8\"],[0.3333333333333333,\"#9c179e\"],[0.4444444444444444,\"#bd3786\"],[0.5555555555555556,\"#d8576b\"],[0.6666666666666666,\"#ed7953\"],[0.7777777777777778,\"#fb9f3a\"],[0.8888888888888888,\"#fdca26\"],[1.0,\"#f0f921\"]],\"type\":\"heatmapgl\"}],\"histogram\":[{\"marker\":{\"pattern\":{\"fillmode\":\"overlay\",\"size\":10,\"solidity\":0.2}},\"type\":\"histogram\"}],\"histogram2d\":[{\"colorbar\":{\"outlinewidth\":0,\"ticks\":\"\"},\"colorscale\":[[0.0,\"#0d0887\"],[0.1111111111111111,\"#46039f\"],[0.2222222222222222,\"#7201a8\"],[0.3333333333333333,\"#9c179e\"],[0.4444444444444444,\"#bd3786\"],[0.5555555555555556,\"#d8576b\"],[0.6666666666666666,\"#ed7953\"],[0.7777777777777778,\"#fb9f3a\"],[0.8888888888888888,\"#fdca26\"],[1.0,\"#f0f921\"]],\"type\":\"histogram2d\"}],\"histogram2dcontour\":[{\"colorbar\":{\"outlinewidth\":0,\"ticks\":\"\"},\"colorscale\":[[0.0,\"#0d0887\"],[0.1111111111111111,\"#46039f\"],[0.2222222222222222,\"#7201a8\"],[0.3333333333333333,\"#9c179e\"],[0.4444444444444444,\"#bd3786\"],[0.5555555555555556,\"#d8576b\"],[0.6666666666666666,\"#ed7953\"],[0.7777777777777778,\"#fb9f3a\"],[0.8888888888888888,\"#fdca26\"],[1.0,\"#f0f921\"]],\"type\":\"histogram2dcontour\"}],\"mesh3d\":[{\"colorbar\":{\"outlinewidth\":0,\"ticks\":\"\"},\"type\":\"mesh3d\"}],\"parcoords\":[{\"line\":{\"colorbar\":{\"outlinewidth\":0,\"ticks\":\"\"}},\"type\":\"parcoords\"}],\"pie\":[{\"automargin\":true,\"type\":\"pie\"}],\"scatter\":[{\"marker\":{\"colorbar\":{\"outlinewidth\":0,\"ticks\":\"\"}},\"type\":\"scatter\"}],\"scatter3d\":[{\"line\":{\"colorbar\":{\"outlinewidth\":0,\"ticks\":\"\"}},\"marker\":{\"colorbar\":{\"outlinewidth\":0,\"ticks\":\"\"}},\"type\":\"scatter3d\"}],\"scattercarpet\":[{\"marker\":{\"colorbar\":{\"outlinewidth\":0,\"ticks\":\"\"}},\"type\":\"scattercarpet\"}],\"scattergeo\":[{\"marker\":{\"colorbar\":{\"outlinewidth\":0,\"ticks\":\"\"}},\"type\":\"scattergeo\"}],\"scattergl\":[{\"marker\":{\"colorbar\":{\"outlinewidth\":0,\"ticks\":\"\"}},\"type\":\"scattergl\"}],\"scattermapbox\":[{\"marker\":{\"colorbar\":{\"outlinewidth\":0,\"ticks\":\"\"}},\"type\":\"scattermapbox\"}],\"scatterpolar\":[{\"marker\":{\"colorbar\":{\"outlinewidth\":0,\"ticks\":\"\"}},\"type\":\"scatterpolar\"}],\"scatterpolargl\":[{\"marker\":{\"colorbar\":{\"outlinewidth\":0,\"ticks\":\"\"}},\"type\":\"scatterpolargl\"}],\"scatterternary\":[{\"marker\":{\"colorbar\":{\"outlinewidth\":0,\"ticks\":\"\"}},\"type\":\"scatterternary\"}],\"surface\":[{\"colorbar\":{\"outlinewidth\":0,\"ticks\":\"\"},\"colorscale\":[[0.0,\"#0d0887\"],[0.1111111111111111,\"#46039f\"],[0.2222222222222222,\"#7201a8\"],[0.3333333333333333,\"#9c179e\"],[0.4444444444444444,\"#bd3786\"],[0.5555555555555556,\"#d8576b\"],[0.6666666666666666,\"#ed7953\"],[0.7777777777777778,\"#fb9f3a\"],[0.8888888888888888,\"#fdca26\"],[1.0,\"#f0f921\"]],\"type\":\"surface\"}],\"table\":[{\"cells\":{\"fill\":{\"color\":\"#EBF0F8\"},\"line\":{\"color\":\"white\"}},\"header\":{\"fill\":{\"color\":\"#C8D4E3\"},\"line\":{\"color\":\"white\"}},\"type\":\"table\"}]},\"layout\":{\"annotationdefaults\":{\"arrowcolor\":\"#2a3f5f\",\"arrowhead\":0,\"arrowwidth\":1},\"autotypenumbers\":\"strict\",\"coloraxis\":{\"colorbar\":{\"outlinewidth\":0,\"ticks\":\"\"}},\"colorscale\":{\"diverging\":[[0,\"#8e0152\"],[0.1,\"#c51b7d\"],[0.2,\"#de77ae\"],[0.3,\"#f1b6da\"],[0.4,\"#fde0ef\"],[0.5,\"#f7f7f7\"],[0.6,\"#e6f5d0\"],[0.7,\"#b8e186\"],[0.8,\"#7fbc41\"],[0.9,\"#4d9221\"],[1,\"#276419\"]],\"sequential\":[[0.0,\"#0d0887\"],[0.1111111111111111,\"#46039f\"],[0.2222222222222222,\"#7201a8\"],[0.3333333333333333,\"#9c179e\"],[0.4444444444444444,\"#bd3786\"],[0.5555555555555556,\"#d8576b\"],[0.6666666666666666,\"#ed7953\"],[0.7777777777777778,\"#fb9f3a\"],[0.8888888888888888,\"#fdca26\"],[1.0,\"#f0f921\"]],\"sequentialminus\":[[0.0,\"#0d0887\"],[0.1111111111111111,\"#46039f\"],[0.2222222222222222,\"#7201a8\"],[0.3333333333333333,\"#9c179e\"],[0.4444444444444444,\"#bd3786\"],[0.5555555555555556,\"#d8576b\"],[0.6666666666666666,\"#ed7953\"],[0.7777777777777778,\"#fb9f3a\"],[0.8888888888888888,\"#fdca26\"],[1.0,\"#f0f921\"]]},\"colorway\":[\"#636efa\",\"#EF553B\",\"#00cc96\",\"#ab63fa\",\"#FFA15A\",\"#19d3f3\",\"#FF6692\",\"#B6E880\",\"#FF97FF\",\"#FECB52\"],\"font\":{\"color\":\"#2a3f5f\"},\"geo\":{\"bgcolor\":\"white\",\"lakecolor\":\"white\",\"landcolor\":\"#E5ECF6\",\"showlakes\":true,\"showland\":true,\"subunitcolor\":\"white\"},\"hoverlabel\":{\"align\":\"left\"},\"hovermode\":\"closest\",\"mapbox\":{\"style\":\"light\"},\"paper_bgcolor\":\"white\",\"plot_bgcolor\":\"#E5ECF6\",\"polar\":{\"angularaxis\":{\"gridcolor\":\"white\",\"linecolor\":\"white\",\"ticks\":\"\"},\"bgcolor\":\"#E5ECF6\",\"radialaxis\":{\"gridcolor\":\"white\",\"linecolor\":\"white\",\"ticks\":\"\"}},\"scene\":{\"xaxis\":{\"backgroundcolor\":\"#E5ECF6\",\"gridcolor\":\"white\",\"gridwidth\":2,\"linecolor\":\"white\",\"showbackground\":true,\"ticks\":\"\",\"zerolinecolor\":\"white\"},\"yaxis\":{\"backgroundcolor\":\"#E5ECF6\",\"gridcolor\":\"white\",\"gridwidth\":2,\"linecolor\":\"white\",\"showbackground\":true,\"ticks\":\"\",\"zerolinecolor\":\"white\"},\"zaxis\":{\"backgroundcolor\":\"#E5ECF6\",\"gridcolor\":\"white\",\"gridwidth\":2,\"linecolor\":\"white\",\"showbackground\":true,\"ticks\":\"\",\"zerolinecolor\":\"white\"}},\"shapedefaults\":{\"line\":{\"color\":\"#2a3f5f\"}},\"ternary\":{\"aaxis\":{\"gridcolor\":\"white\",\"linecolor\":\"white\",\"ticks\":\"\"},\"baxis\":{\"gridcolor\":\"white\",\"linecolor\":\"white\",\"ticks\":\"\"},\"bgcolor\":\"#E5ECF6\",\"caxis\":{\"gridcolor\":\"white\",\"linecolor\":\"white\",\"ticks\":\"\"}},\"title\":{\"x\":0.05},\"xaxis\":{\"automargin\":true,\"gridcolor\":\"white\",\"linecolor\":\"white\",\"ticks\":\"\",\"title\":{\"standoff\":15},\"zerolinecolor\":\"white\",\"zerolinewidth\":2},\"yaxis\":{\"automargin\":true,\"gridcolor\":\"white\",\"linecolor\":\"white\",\"ticks\":\"\",\"title\":{\"standoff\":15},\"zerolinecolor\":\"white\",\"zerolinewidth\":2}}}},                        {\"responsive\": true}                    ).then(function(){\n",
              "                            \n",
              "var gd = document.getElementById('c917cde2-d693-47a4-bff5-12fe3c9b391c');\n",
              "var x = new MutationObserver(function (mutations, observer) {{\n",
              "        var display = window.getComputedStyle(gd).display;\n",
              "        if (!display || display === 'none') {{\n",
              "            console.log([gd, 'removed!']);\n",
              "            Plotly.purge(gd);\n",
              "            observer.disconnect();\n",
              "        }}\n",
              "}});\n",
              "\n",
              "// Listen for the removal of the full notebook cells\n",
              "var notebookContainer = gd.closest('#notebook-container');\n",
              "if (notebookContainer) {{\n",
              "    x.observe(notebookContainer, {childList: true});\n",
              "}}\n",
              "\n",
              "// Listen for the clearing of the current output cell\n",
              "var outputEl = gd.closest('.output');\n",
              "if (outputEl) {{\n",
              "    x.observe(outputEl, {childList: true});\n",
              "}}\n",
              "\n",
              "                        })                };                            </script>        </div>\n",
              "</body>\n",
              "</html>"
            ]
          },
          "metadata": {}
        }
      ]
    },
    {
      "cell_type": "markdown",
      "metadata": {
        "id": "KogKg4aCgPSC"
      },
      "source": [
        "# ¿Ventajas de las los paquetes graph_objects y express?\n",
        "Estos paquetes muestran su verdadera utilidad al tratar con Datasets.\n",
        "Acontunuacion veremos un ejemplo de trabajo con estos paquetes donde de una Dataset se mostraran un grafico de barrar agrupado por marca y separado por vendedor permitiendo observar rapida y facilmente la informacion del dataset como la comparativa de ventas de cada empleado por marca.\n",
        "\n",
        "Estos paquetes de graficas nos permiten hacer graficas interactivabas mediante Callbakcs, al final de este notebook veremos unas comparativas entre unas graficas y su contraparte interactiva."
      ]
    },
    {
      "cell_type": "code",
      "metadata": {
        "colab": {
          "base_uri": "https://localhost:8080/",
          "height": 1000
        },
        "id": "SY1s2EZJgN0R",
        "outputId": "89b1f6f7-8859-4e47-ae27-fa2e9074ddd5"
      },
      "source": [
        "import pandas as pd\n",
        "\n",
        "df = pd.DataFrame({\n",
        "  \"Cell phone brand\": [\"Apple\", \"Xiaomi\", \"Samsung\", \"Apple\", \"Xiaomi\", \"Samsung\"],\n",
        "  \"Sellers\": [\"SellerA\", \"SellerA\", \"SellerA\", \"SellerB\", \"SellerB\", \"SellerB\"],\n",
        "  \"Number sales\": [1, 2, 3, 3, 1, 2],\n",
        "})\n",
        "\n",
        "\n",
        "# Express\n",
        "\n",
        "fig = px.bar(df, x=\"Cell phone brand\", y=\"Number sales\", color=\"Sellers\", barmode=\"group\")\n",
        "fig.show()\n",
        "\n",
        "\n",
        "# Graph Objects\n",
        "\n",
        "fig = go.Figure()\n",
        "for Sellers, group in df.groupby(\"Sellers\"):\n",
        "    fig.add_trace(go.Bar(x=group[\"Cell phone brand\"], y=group[\"Number sales\"], name=Sellers,\n",
        "      hovertemplate=\"Sellers=%s<br>Cell phone brand=%%{x}<br>Number sales=%%{y}<extra></extra>\"% Sellers))\n",
        "fig.update_layout(legend_title_text = \"Sellers\")\n",
        "fig.update_xaxes(title_text=\"Cell phone brand\")\n",
        "fig.update_yaxes(title_text=\"Number sales\")\n",
        "fig.show()"
      ],
      "execution_count": null,
      "outputs": [
        {
          "output_type": "display_data",
          "data": {
            "text/html": [
              "<html>\n",
              "<head><meta charset=\"utf-8\" /></head>\n",
              "<body>\n",
              "    <div>            <script src=\"https://cdnjs.cloudflare.com/ajax/libs/mathjax/2.7.5/MathJax.js?config=TeX-AMS-MML_SVG\"></script><script type=\"text/javascript\">if (window.MathJax) {MathJax.Hub.Config({SVG: {font: \"STIX-Web\"}});}</script>                <script type=\"text/javascript\">window.PlotlyConfig = {MathJaxConfig: 'local'};</script>\n",
              "        <script src=\"https://cdn.plot.ly/plotly-2.4.2.min.js\"></script>                <div id=\"6d49f5a9-0f5b-4f3a-9339-1f4681e4d8ae\" class=\"plotly-graph-div\" style=\"height:525px; width:100%;\"></div>            <script type=\"text/javascript\">                                    window.PLOTLYENV=window.PLOTLYENV || {};                                    if (document.getElementById(\"6d49f5a9-0f5b-4f3a-9339-1f4681e4d8ae\")) {                    Plotly.newPlot(                        \"6d49f5a9-0f5b-4f3a-9339-1f4681e4d8ae\",                        [{\"alignmentgroup\":\"True\",\"hovertemplate\":\"Sellers=SellerA<br>Cell phone brand=%{x}<br>Number sales=%{y}<extra></extra>\",\"legendgroup\":\"SellerA\",\"marker\":{\"color\":\"#636efa\",\"pattern\":{\"shape\":\"\"}},\"name\":\"SellerA\",\"offsetgroup\":\"SellerA\",\"orientation\":\"v\",\"showlegend\":true,\"textposition\":\"auto\",\"type\":\"bar\",\"x\":[\"Apple\",\"Xiaomi\",\"Samsung\"],\"xaxis\":\"x\",\"y\":[1,2,3],\"yaxis\":\"y\"},{\"alignmentgroup\":\"True\",\"hovertemplate\":\"Sellers=SellerB<br>Cell phone brand=%{x}<br>Number sales=%{y}<extra></extra>\",\"legendgroup\":\"SellerB\",\"marker\":{\"color\":\"#EF553B\",\"pattern\":{\"shape\":\"\"}},\"name\":\"SellerB\",\"offsetgroup\":\"SellerB\",\"orientation\":\"v\",\"showlegend\":true,\"textposition\":\"auto\",\"type\":\"bar\",\"x\":[\"Apple\",\"Xiaomi\",\"Samsung\"],\"xaxis\":\"x\",\"y\":[3,1,2],\"yaxis\":\"y\"}],                        {\"barmode\":\"group\",\"legend\":{\"title\":{\"text\":\"Sellers\"},\"tracegroupgap\":0},\"margin\":{\"t\":60},\"template\":{\"data\":{\"bar\":[{\"error_x\":{\"color\":\"#2a3f5f\"},\"error_y\":{\"color\":\"#2a3f5f\"},\"marker\":{\"line\":{\"color\":\"#E5ECF6\",\"width\":0.5},\"pattern\":{\"fillmode\":\"overlay\",\"size\":10,\"solidity\":0.2}},\"type\":\"bar\"}],\"barpolar\":[{\"marker\":{\"line\":{\"color\":\"#E5ECF6\",\"width\":0.5},\"pattern\":{\"fillmode\":\"overlay\",\"size\":10,\"solidity\":0.2}},\"type\":\"barpolar\"}],\"carpet\":[{\"aaxis\":{\"endlinecolor\":\"#2a3f5f\",\"gridcolor\":\"white\",\"linecolor\":\"white\",\"minorgridcolor\":\"white\",\"startlinecolor\":\"#2a3f5f\"},\"baxis\":{\"endlinecolor\":\"#2a3f5f\",\"gridcolor\":\"white\",\"linecolor\":\"white\",\"minorgridcolor\":\"white\",\"startlinecolor\":\"#2a3f5f\"},\"type\":\"carpet\"}],\"choropleth\":[{\"colorbar\":{\"outlinewidth\":0,\"ticks\":\"\"},\"type\":\"choropleth\"}],\"contour\":[{\"colorbar\":{\"outlinewidth\":0,\"ticks\":\"\"},\"colorscale\":[[0.0,\"#0d0887\"],[0.1111111111111111,\"#46039f\"],[0.2222222222222222,\"#7201a8\"],[0.3333333333333333,\"#9c179e\"],[0.4444444444444444,\"#bd3786\"],[0.5555555555555556,\"#d8576b\"],[0.6666666666666666,\"#ed7953\"],[0.7777777777777778,\"#fb9f3a\"],[0.8888888888888888,\"#fdca26\"],[1.0,\"#f0f921\"]],\"type\":\"contour\"}],\"contourcarpet\":[{\"colorbar\":{\"outlinewidth\":0,\"ticks\":\"\"},\"type\":\"contourcarpet\"}],\"heatmap\":[{\"colorbar\":{\"outlinewidth\":0,\"ticks\":\"\"},\"colorscale\":[[0.0,\"#0d0887\"],[0.1111111111111111,\"#46039f\"],[0.2222222222222222,\"#7201a8\"],[0.3333333333333333,\"#9c179e\"],[0.4444444444444444,\"#bd3786\"],[0.5555555555555556,\"#d8576b\"],[0.6666666666666666,\"#ed7953\"],[0.7777777777777778,\"#fb9f3a\"],[0.8888888888888888,\"#fdca26\"],[1.0,\"#f0f921\"]],\"type\":\"heatmap\"}],\"heatmapgl\":[{\"colorbar\":{\"outlinewidth\":0,\"ticks\":\"\"},\"colorscale\":[[0.0,\"#0d0887\"],[0.1111111111111111,\"#46039f\"],[0.2222222222222222,\"#7201a8\"],[0.3333333333333333,\"#9c179e\"],[0.4444444444444444,\"#bd3786\"],[0.5555555555555556,\"#d8576b\"],[0.6666666666666666,\"#ed7953\"],[0.7777777777777778,\"#fb9f3a\"],[0.8888888888888888,\"#fdca26\"],[1.0,\"#f0f921\"]],\"type\":\"heatmapgl\"}],\"histogram\":[{\"marker\":{\"pattern\":{\"fillmode\":\"overlay\",\"size\":10,\"solidity\":0.2}},\"type\":\"histogram\"}],\"histogram2d\":[{\"colorbar\":{\"outlinewidth\":0,\"ticks\":\"\"},\"colorscale\":[[0.0,\"#0d0887\"],[0.1111111111111111,\"#46039f\"],[0.2222222222222222,\"#7201a8\"],[0.3333333333333333,\"#9c179e\"],[0.4444444444444444,\"#bd3786\"],[0.5555555555555556,\"#d8576b\"],[0.6666666666666666,\"#ed7953\"],[0.7777777777777778,\"#fb9f3a\"],[0.8888888888888888,\"#fdca26\"],[1.0,\"#f0f921\"]],\"type\":\"histogram2d\"}],\"histogram2dcontour\":[{\"colorbar\":{\"outlinewidth\":0,\"ticks\":\"\"},\"colorscale\":[[0.0,\"#0d0887\"],[0.1111111111111111,\"#46039f\"],[0.2222222222222222,\"#7201a8\"],[0.3333333333333333,\"#9c179e\"],[0.4444444444444444,\"#bd3786\"],[0.5555555555555556,\"#d8576b\"],[0.6666666666666666,\"#ed7953\"],[0.7777777777777778,\"#fb9f3a\"],[0.8888888888888888,\"#fdca26\"],[1.0,\"#f0f921\"]],\"type\":\"histogram2dcontour\"}],\"mesh3d\":[{\"colorbar\":{\"outlinewidth\":0,\"ticks\":\"\"},\"type\":\"mesh3d\"}],\"parcoords\":[{\"line\":{\"colorbar\":{\"outlinewidth\":0,\"ticks\":\"\"}},\"type\":\"parcoords\"}],\"pie\":[{\"automargin\":true,\"type\":\"pie\"}],\"scatter\":[{\"marker\":{\"colorbar\":{\"outlinewidth\":0,\"ticks\":\"\"}},\"type\":\"scatter\"}],\"scatter3d\":[{\"line\":{\"colorbar\":{\"outlinewidth\":0,\"ticks\":\"\"}},\"marker\":{\"colorbar\":{\"outlinewidth\":0,\"ticks\":\"\"}},\"type\":\"scatter3d\"}],\"scattercarpet\":[{\"marker\":{\"colorbar\":{\"outlinewidth\":0,\"ticks\":\"\"}},\"type\":\"scattercarpet\"}],\"scattergeo\":[{\"marker\":{\"colorbar\":{\"outlinewidth\":0,\"ticks\":\"\"}},\"type\":\"scattergeo\"}],\"scattergl\":[{\"marker\":{\"colorbar\":{\"outlinewidth\":0,\"ticks\":\"\"}},\"type\":\"scattergl\"}],\"scattermapbox\":[{\"marker\":{\"colorbar\":{\"outlinewidth\":0,\"ticks\":\"\"}},\"type\":\"scattermapbox\"}],\"scatterpolar\":[{\"marker\":{\"colorbar\":{\"outlinewidth\":0,\"ticks\":\"\"}},\"type\":\"scatterpolar\"}],\"scatterpolargl\":[{\"marker\":{\"colorbar\":{\"outlinewidth\":0,\"ticks\":\"\"}},\"type\":\"scatterpolargl\"}],\"scatterternary\":[{\"marker\":{\"colorbar\":{\"outlinewidth\":0,\"ticks\":\"\"}},\"type\":\"scatterternary\"}],\"surface\":[{\"colorbar\":{\"outlinewidth\":0,\"ticks\":\"\"},\"colorscale\":[[0.0,\"#0d0887\"],[0.1111111111111111,\"#46039f\"],[0.2222222222222222,\"#7201a8\"],[0.3333333333333333,\"#9c179e\"],[0.4444444444444444,\"#bd3786\"],[0.5555555555555556,\"#d8576b\"],[0.6666666666666666,\"#ed7953\"],[0.7777777777777778,\"#fb9f3a\"],[0.8888888888888888,\"#fdca26\"],[1.0,\"#f0f921\"]],\"type\":\"surface\"}],\"table\":[{\"cells\":{\"fill\":{\"color\":\"#EBF0F8\"},\"line\":{\"color\":\"white\"}},\"header\":{\"fill\":{\"color\":\"#C8D4E3\"},\"line\":{\"color\":\"white\"}},\"type\":\"table\"}]},\"layout\":{\"annotationdefaults\":{\"arrowcolor\":\"#2a3f5f\",\"arrowhead\":0,\"arrowwidth\":1},\"autotypenumbers\":\"strict\",\"coloraxis\":{\"colorbar\":{\"outlinewidth\":0,\"ticks\":\"\"}},\"colorscale\":{\"diverging\":[[0,\"#8e0152\"],[0.1,\"#c51b7d\"],[0.2,\"#de77ae\"],[0.3,\"#f1b6da\"],[0.4,\"#fde0ef\"],[0.5,\"#f7f7f7\"],[0.6,\"#e6f5d0\"],[0.7,\"#b8e186\"],[0.8,\"#7fbc41\"],[0.9,\"#4d9221\"],[1,\"#276419\"]],\"sequential\":[[0.0,\"#0d0887\"],[0.1111111111111111,\"#46039f\"],[0.2222222222222222,\"#7201a8\"],[0.3333333333333333,\"#9c179e\"],[0.4444444444444444,\"#bd3786\"],[0.5555555555555556,\"#d8576b\"],[0.6666666666666666,\"#ed7953\"],[0.7777777777777778,\"#fb9f3a\"],[0.8888888888888888,\"#fdca26\"],[1.0,\"#f0f921\"]],\"sequentialminus\":[[0.0,\"#0d0887\"],[0.1111111111111111,\"#46039f\"],[0.2222222222222222,\"#7201a8\"],[0.3333333333333333,\"#9c179e\"],[0.4444444444444444,\"#bd3786\"],[0.5555555555555556,\"#d8576b\"],[0.6666666666666666,\"#ed7953\"],[0.7777777777777778,\"#fb9f3a\"],[0.8888888888888888,\"#fdca26\"],[1.0,\"#f0f921\"]]},\"colorway\":[\"#636efa\",\"#EF553B\",\"#00cc96\",\"#ab63fa\",\"#FFA15A\",\"#19d3f3\",\"#FF6692\",\"#B6E880\",\"#FF97FF\",\"#FECB52\"],\"font\":{\"color\":\"#2a3f5f\"},\"geo\":{\"bgcolor\":\"white\",\"lakecolor\":\"white\",\"landcolor\":\"#E5ECF6\",\"showlakes\":true,\"showland\":true,\"subunitcolor\":\"white\"},\"hoverlabel\":{\"align\":\"left\"},\"hovermode\":\"closest\",\"mapbox\":{\"style\":\"light\"},\"paper_bgcolor\":\"white\",\"plot_bgcolor\":\"#E5ECF6\",\"polar\":{\"angularaxis\":{\"gridcolor\":\"white\",\"linecolor\":\"white\",\"ticks\":\"\"},\"bgcolor\":\"#E5ECF6\",\"radialaxis\":{\"gridcolor\":\"white\",\"linecolor\":\"white\",\"ticks\":\"\"}},\"scene\":{\"xaxis\":{\"backgroundcolor\":\"#E5ECF6\",\"gridcolor\":\"white\",\"gridwidth\":2,\"linecolor\":\"white\",\"showbackground\":true,\"ticks\":\"\",\"zerolinecolor\":\"white\"},\"yaxis\":{\"backgroundcolor\":\"#E5ECF6\",\"gridcolor\":\"white\",\"gridwidth\":2,\"linecolor\":\"white\",\"showbackground\":true,\"ticks\":\"\",\"zerolinecolor\":\"white\"},\"zaxis\":{\"backgroundcolor\":\"#E5ECF6\",\"gridcolor\":\"white\",\"gridwidth\":2,\"linecolor\":\"white\",\"showbackground\":true,\"ticks\":\"\",\"zerolinecolor\":\"white\"}},\"shapedefaults\":{\"line\":{\"color\":\"#2a3f5f\"}},\"ternary\":{\"aaxis\":{\"gridcolor\":\"white\",\"linecolor\":\"white\",\"ticks\":\"\"},\"baxis\":{\"gridcolor\":\"white\",\"linecolor\":\"white\",\"ticks\":\"\"},\"bgcolor\":\"#E5ECF6\",\"caxis\":{\"gridcolor\":\"white\",\"linecolor\":\"white\",\"ticks\":\"\"}},\"title\":{\"x\":0.05},\"xaxis\":{\"automargin\":true,\"gridcolor\":\"white\",\"linecolor\":\"white\",\"ticks\":\"\",\"title\":{\"standoff\":15},\"zerolinecolor\":\"white\",\"zerolinewidth\":2},\"yaxis\":{\"automargin\":true,\"gridcolor\":\"white\",\"linecolor\":\"white\",\"ticks\":\"\",\"title\":{\"standoff\":15},\"zerolinecolor\":\"white\",\"zerolinewidth\":2}}},\"xaxis\":{\"anchor\":\"y\",\"domain\":[0.0,1.0],\"title\":{\"text\":\"Cell phone brand\"}},\"yaxis\":{\"anchor\":\"x\",\"domain\":[0.0,1.0],\"title\":{\"text\":\"Number sales\"}}},                        {\"responsive\": true}                    ).then(function(){\n",
              "                            \n",
              "var gd = document.getElementById('6d49f5a9-0f5b-4f3a-9339-1f4681e4d8ae');\n",
              "var x = new MutationObserver(function (mutations, observer) {{\n",
              "        var display = window.getComputedStyle(gd).display;\n",
              "        if (!display || display === 'none') {{\n",
              "            console.log([gd, 'removed!']);\n",
              "            Plotly.purge(gd);\n",
              "            observer.disconnect();\n",
              "        }}\n",
              "}});\n",
              "\n",
              "// Listen for the removal of the full notebook cells\n",
              "var notebookContainer = gd.closest('#notebook-container');\n",
              "if (notebookContainer) {{\n",
              "    x.observe(notebookContainer, {childList: true});\n",
              "}}\n",
              "\n",
              "// Listen for the clearing of the current output cell\n",
              "var outputEl = gd.closest('.output');\n",
              "if (outputEl) {{\n",
              "    x.observe(outputEl, {childList: true});\n",
              "}}\n",
              "\n",
              "                        })                };                            </script>        </div>\n",
              "</body>\n",
              "</html>"
            ]
          },
          "metadata": {}
        },
        {
          "output_type": "display_data",
          "data": {
            "text/html": [
              "<html>\n",
              "<head><meta charset=\"utf-8\" /></head>\n",
              "<body>\n",
              "    <div>            <script src=\"https://cdnjs.cloudflare.com/ajax/libs/mathjax/2.7.5/MathJax.js?config=TeX-AMS-MML_SVG\"></script><script type=\"text/javascript\">if (window.MathJax) {MathJax.Hub.Config({SVG: {font: \"STIX-Web\"}});}</script>                <script type=\"text/javascript\">window.PlotlyConfig = {MathJaxConfig: 'local'};</script>\n",
              "        <script src=\"https://cdn.plot.ly/plotly-2.4.2.min.js\"></script>                <div id=\"547f0b69-0405-4564-b9b2-e68eb157c325\" class=\"plotly-graph-div\" style=\"height:525px; width:100%;\"></div>            <script type=\"text/javascript\">                                    window.PLOTLYENV=window.PLOTLYENV || {};                                    if (document.getElementById(\"547f0b69-0405-4564-b9b2-e68eb157c325\")) {                    Plotly.newPlot(                        \"547f0b69-0405-4564-b9b2-e68eb157c325\",                        [{\"hovertemplate\":\"Sellers=SellerA<br>Cell phone brand=%{x}<br>Number sales=%{y}<extra></extra>\",\"name\":\"SellerA\",\"type\":\"bar\",\"x\":[\"Apple\",\"Xiaomi\",\"Samsung\"],\"y\":[1,2,3]},{\"hovertemplate\":\"Sellers=SellerB<br>Cell phone brand=%{x}<br>Number sales=%{y}<extra></extra>\",\"name\":\"SellerB\",\"type\":\"bar\",\"x\":[\"Apple\",\"Xiaomi\",\"Samsung\"],\"y\":[3,1,2]}],                        {\"legend\":{\"title\":{\"text\":\"Sellers\"}},\"template\":{\"data\":{\"bar\":[{\"error_x\":{\"color\":\"#2a3f5f\"},\"error_y\":{\"color\":\"#2a3f5f\"},\"marker\":{\"line\":{\"color\":\"#E5ECF6\",\"width\":0.5},\"pattern\":{\"fillmode\":\"overlay\",\"size\":10,\"solidity\":0.2}},\"type\":\"bar\"}],\"barpolar\":[{\"marker\":{\"line\":{\"color\":\"#E5ECF6\",\"width\":0.5},\"pattern\":{\"fillmode\":\"overlay\",\"size\":10,\"solidity\":0.2}},\"type\":\"barpolar\"}],\"carpet\":[{\"aaxis\":{\"endlinecolor\":\"#2a3f5f\",\"gridcolor\":\"white\",\"linecolor\":\"white\",\"minorgridcolor\":\"white\",\"startlinecolor\":\"#2a3f5f\"},\"baxis\":{\"endlinecolor\":\"#2a3f5f\",\"gridcolor\":\"white\",\"linecolor\":\"white\",\"minorgridcolor\":\"white\",\"startlinecolor\":\"#2a3f5f\"},\"type\":\"carpet\"}],\"choropleth\":[{\"colorbar\":{\"outlinewidth\":0,\"ticks\":\"\"},\"type\":\"choropleth\"}],\"contour\":[{\"colorbar\":{\"outlinewidth\":0,\"ticks\":\"\"},\"colorscale\":[[0.0,\"#0d0887\"],[0.1111111111111111,\"#46039f\"],[0.2222222222222222,\"#7201a8\"],[0.3333333333333333,\"#9c179e\"],[0.4444444444444444,\"#bd3786\"],[0.5555555555555556,\"#d8576b\"],[0.6666666666666666,\"#ed7953\"],[0.7777777777777778,\"#fb9f3a\"],[0.8888888888888888,\"#fdca26\"],[1.0,\"#f0f921\"]],\"type\":\"contour\"}],\"contourcarpet\":[{\"colorbar\":{\"outlinewidth\":0,\"ticks\":\"\"},\"type\":\"contourcarpet\"}],\"heatmap\":[{\"colorbar\":{\"outlinewidth\":0,\"ticks\":\"\"},\"colorscale\":[[0.0,\"#0d0887\"],[0.1111111111111111,\"#46039f\"],[0.2222222222222222,\"#7201a8\"],[0.3333333333333333,\"#9c179e\"],[0.4444444444444444,\"#bd3786\"],[0.5555555555555556,\"#d8576b\"],[0.6666666666666666,\"#ed7953\"],[0.7777777777777778,\"#fb9f3a\"],[0.8888888888888888,\"#fdca26\"],[1.0,\"#f0f921\"]],\"type\":\"heatmap\"}],\"heatmapgl\":[{\"colorbar\":{\"outlinewidth\":0,\"ticks\":\"\"},\"colorscale\":[[0.0,\"#0d0887\"],[0.1111111111111111,\"#46039f\"],[0.2222222222222222,\"#7201a8\"],[0.3333333333333333,\"#9c179e\"],[0.4444444444444444,\"#bd3786\"],[0.5555555555555556,\"#d8576b\"],[0.6666666666666666,\"#ed7953\"],[0.7777777777777778,\"#fb9f3a\"],[0.8888888888888888,\"#fdca26\"],[1.0,\"#f0f921\"]],\"type\":\"heatmapgl\"}],\"histogram\":[{\"marker\":{\"pattern\":{\"fillmode\":\"overlay\",\"size\":10,\"solidity\":0.2}},\"type\":\"histogram\"}],\"histogram2d\":[{\"colorbar\":{\"outlinewidth\":0,\"ticks\":\"\"},\"colorscale\":[[0.0,\"#0d0887\"],[0.1111111111111111,\"#46039f\"],[0.2222222222222222,\"#7201a8\"],[0.3333333333333333,\"#9c179e\"],[0.4444444444444444,\"#bd3786\"],[0.5555555555555556,\"#d8576b\"],[0.6666666666666666,\"#ed7953\"],[0.7777777777777778,\"#fb9f3a\"],[0.8888888888888888,\"#fdca26\"],[1.0,\"#f0f921\"]],\"type\":\"histogram2d\"}],\"histogram2dcontour\":[{\"colorbar\":{\"outlinewidth\":0,\"ticks\":\"\"},\"colorscale\":[[0.0,\"#0d0887\"],[0.1111111111111111,\"#46039f\"],[0.2222222222222222,\"#7201a8\"],[0.3333333333333333,\"#9c179e\"],[0.4444444444444444,\"#bd3786\"],[0.5555555555555556,\"#d8576b\"],[0.6666666666666666,\"#ed7953\"],[0.7777777777777778,\"#fb9f3a\"],[0.8888888888888888,\"#fdca26\"],[1.0,\"#f0f921\"]],\"type\":\"histogram2dcontour\"}],\"mesh3d\":[{\"colorbar\":{\"outlinewidth\":0,\"ticks\":\"\"},\"type\":\"mesh3d\"}],\"parcoords\":[{\"line\":{\"colorbar\":{\"outlinewidth\":0,\"ticks\":\"\"}},\"type\":\"parcoords\"}],\"pie\":[{\"automargin\":true,\"type\":\"pie\"}],\"scatter\":[{\"marker\":{\"colorbar\":{\"outlinewidth\":0,\"ticks\":\"\"}},\"type\":\"scatter\"}],\"scatter3d\":[{\"line\":{\"colorbar\":{\"outlinewidth\":0,\"ticks\":\"\"}},\"marker\":{\"colorbar\":{\"outlinewidth\":0,\"ticks\":\"\"}},\"type\":\"scatter3d\"}],\"scattercarpet\":[{\"marker\":{\"colorbar\":{\"outlinewidth\":0,\"ticks\":\"\"}},\"type\":\"scattercarpet\"}],\"scattergeo\":[{\"marker\":{\"colorbar\":{\"outlinewidth\":0,\"ticks\":\"\"}},\"type\":\"scattergeo\"}],\"scattergl\":[{\"marker\":{\"colorbar\":{\"outlinewidth\":0,\"ticks\":\"\"}},\"type\":\"scattergl\"}],\"scattermapbox\":[{\"marker\":{\"colorbar\":{\"outlinewidth\":0,\"ticks\":\"\"}},\"type\":\"scattermapbox\"}],\"scatterpolar\":[{\"marker\":{\"colorbar\":{\"outlinewidth\":0,\"ticks\":\"\"}},\"type\":\"scatterpolar\"}],\"scatterpolargl\":[{\"marker\":{\"colorbar\":{\"outlinewidth\":0,\"ticks\":\"\"}},\"type\":\"scatterpolargl\"}],\"scatterternary\":[{\"marker\":{\"colorbar\":{\"outlinewidth\":0,\"ticks\":\"\"}},\"type\":\"scatterternary\"}],\"surface\":[{\"colorbar\":{\"outlinewidth\":0,\"ticks\":\"\"},\"colorscale\":[[0.0,\"#0d0887\"],[0.1111111111111111,\"#46039f\"],[0.2222222222222222,\"#7201a8\"],[0.3333333333333333,\"#9c179e\"],[0.4444444444444444,\"#bd3786\"],[0.5555555555555556,\"#d8576b\"],[0.6666666666666666,\"#ed7953\"],[0.7777777777777778,\"#fb9f3a\"],[0.8888888888888888,\"#fdca26\"],[1.0,\"#f0f921\"]],\"type\":\"surface\"}],\"table\":[{\"cells\":{\"fill\":{\"color\":\"#EBF0F8\"},\"line\":{\"color\":\"white\"}},\"header\":{\"fill\":{\"color\":\"#C8D4E3\"},\"line\":{\"color\":\"white\"}},\"type\":\"table\"}]},\"layout\":{\"annotationdefaults\":{\"arrowcolor\":\"#2a3f5f\",\"arrowhead\":0,\"arrowwidth\":1},\"autotypenumbers\":\"strict\",\"coloraxis\":{\"colorbar\":{\"outlinewidth\":0,\"ticks\":\"\"}},\"colorscale\":{\"diverging\":[[0,\"#8e0152\"],[0.1,\"#c51b7d\"],[0.2,\"#de77ae\"],[0.3,\"#f1b6da\"],[0.4,\"#fde0ef\"],[0.5,\"#f7f7f7\"],[0.6,\"#e6f5d0\"],[0.7,\"#b8e186\"],[0.8,\"#7fbc41\"],[0.9,\"#4d9221\"],[1,\"#276419\"]],\"sequential\":[[0.0,\"#0d0887\"],[0.1111111111111111,\"#46039f\"],[0.2222222222222222,\"#7201a8\"],[0.3333333333333333,\"#9c179e\"],[0.4444444444444444,\"#bd3786\"],[0.5555555555555556,\"#d8576b\"],[0.6666666666666666,\"#ed7953\"],[0.7777777777777778,\"#fb9f3a\"],[0.8888888888888888,\"#fdca26\"],[1.0,\"#f0f921\"]],\"sequentialminus\":[[0.0,\"#0d0887\"],[0.1111111111111111,\"#46039f\"],[0.2222222222222222,\"#7201a8\"],[0.3333333333333333,\"#9c179e\"],[0.4444444444444444,\"#bd3786\"],[0.5555555555555556,\"#d8576b\"],[0.6666666666666666,\"#ed7953\"],[0.7777777777777778,\"#fb9f3a\"],[0.8888888888888888,\"#fdca26\"],[1.0,\"#f0f921\"]]},\"colorway\":[\"#636efa\",\"#EF553B\",\"#00cc96\",\"#ab63fa\",\"#FFA15A\",\"#19d3f3\",\"#FF6692\",\"#B6E880\",\"#FF97FF\",\"#FECB52\"],\"font\":{\"color\":\"#2a3f5f\"},\"geo\":{\"bgcolor\":\"white\",\"lakecolor\":\"white\",\"landcolor\":\"#E5ECF6\",\"showlakes\":true,\"showland\":true,\"subunitcolor\":\"white\"},\"hoverlabel\":{\"align\":\"left\"},\"hovermode\":\"closest\",\"mapbox\":{\"style\":\"light\"},\"paper_bgcolor\":\"white\",\"plot_bgcolor\":\"#E5ECF6\",\"polar\":{\"angularaxis\":{\"gridcolor\":\"white\",\"linecolor\":\"white\",\"ticks\":\"\"},\"bgcolor\":\"#E5ECF6\",\"radialaxis\":{\"gridcolor\":\"white\",\"linecolor\":\"white\",\"ticks\":\"\"}},\"scene\":{\"xaxis\":{\"backgroundcolor\":\"#E5ECF6\",\"gridcolor\":\"white\",\"gridwidth\":2,\"linecolor\":\"white\",\"showbackground\":true,\"ticks\":\"\",\"zerolinecolor\":\"white\"},\"yaxis\":{\"backgroundcolor\":\"#E5ECF6\",\"gridcolor\":\"white\",\"gridwidth\":2,\"linecolor\":\"white\",\"showbackground\":true,\"ticks\":\"\",\"zerolinecolor\":\"white\"},\"zaxis\":{\"backgroundcolor\":\"#E5ECF6\",\"gridcolor\":\"white\",\"gridwidth\":2,\"linecolor\":\"white\",\"showbackground\":true,\"ticks\":\"\",\"zerolinecolor\":\"white\"}},\"shapedefaults\":{\"line\":{\"color\":\"#2a3f5f\"}},\"ternary\":{\"aaxis\":{\"gridcolor\":\"white\",\"linecolor\":\"white\",\"ticks\":\"\"},\"baxis\":{\"gridcolor\":\"white\",\"linecolor\":\"white\",\"ticks\":\"\"},\"bgcolor\":\"#E5ECF6\",\"caxis\":{\"gridcolor\":\"white\",\"linecolor\":\"white\",\"ticks\":\"\"}},\"title\":{\"x\":0.05},\"xaxis\":{\"automargin\":true,\"gridcolor\":\"white\",\"linecolor\":\"white\",\"ticks\":\"\",\"title\":{\"standoff\":15},\"zerolinecolor\":\"white\",\"zerolinewidth\":2},\"yaxis\":{\"automargin\":true,\"gridcolor\":\"white\",\"linecolor\":\"white\",\"ticks\":\"\",\"title\":{\"standoff\":15},\"zerolinecolor\":\"white\",\"zerolinewidth\":2}}},\"xaxis\":{\"title\":{\"text\":\"Cell phone brand\"}},\"yaxis\":{\"title\":{\"text\":\"Number sales\"}}},                        {\"responsive\": true}                    ).then(function(){\n",
              "                            \n",
              "var gd = document.getElementById('547f0b69-0405-4564-b9b2-e68eb157c325');\n",
              "var x = new MutationObserver(function (mutations, observer) {{\n",
              "        var display = window.getComputedStyle(gd).display;\n",
              "        if (!display || display === 'none') {{\n",
              "            console.log([gd, 'removed!']);\n",
              "            Plotly.purge(gd);\n",
              "            observer.disconnect();\n",
              "        }}\n",
              "}});\n",
              "\n",
              "// Listen for the removal of the full notebook cells\n",
              "var notebookContainer = gd.closest('#notebook-container');\n",
              "if (notebookContainer) {{\n",
              "    x.observe(notebookContainer, {childList: true});\n",
              "}}\n",
              "\n",
              "// Listen for the clearing of the current output cell\n",
              "var outputEl = gd.closest('.output');\n",
              "if (outputEl) {{\n",
              "    x.observe(outputEl, {childList: true});\n",
              "}}\n",
              "\n",
              "                        })                };                            </script>        </div>\n",
              "</body>\n",
              "</html>"
            ]
          },
          "metadata": {}
        }
      ]
    },
    {
      "cell_type": "markdown",
      "metadata": {
        "id": "KdaokVdc-bGE"
      },
      "source": [
        "# Graficas interactivas\n",
        "\n",
        "Estas graficas se hacen enlazado alguna interfaz grafica con la gráfica que se desea hacer interactiva, esto se hace mediante el decorador @app.callback donde definen las salidas y entradas de nuestro proceso. adicionando una función en la cual diremos que se desea hacer en el proceso.\n",
        "\n",
        "Al final de este notebook en la penúltima celda se encuentra un ejemplo de un Dashborard el cual incluye dos ejemplos de gráficas y como se podría implementar la interactividad en estas.\n",
        "\n",
        "Pero estas implementaciones son difíciles de entender en una primera instancia por eso se sugiere ir los siguientes link para más información.\n",
        "\n",
        "https://dash.plotly.com/basic-callbacks\n",
        "\n",
        "https://plotly.com/python/statistical-charts/\n",
        "\n",
        "https://dash.plotly.com/interactive-graphing\n"
      ]
    },
    {
      "cell_type": "markdown",
      "metadata": {
        "id": "e1GVqr1W0drZ"
      },
      "source": [
        "# Instalar componetes para ver el Dash de forma remota en colab\n",
        "\n"
      ]
    },
    {
      "cell_type": "markdown",
      "metadata": {
        "id": "WxBvQ1ipTtr4"
      },
      "source": [
        "La linea \"pip install pyngrok\" permite intalar una api de ngrok en python. ngrok es una herramienta de proxy inverso que abre túneles seguros desde URL públicas a localhost, perfecta para exponer servidores web locales, crear integraciones de webhook, habilitar el acceso SSH, probar chatbots, hacer demostraciones desde su propia máquina y más, y se hace aún más poderoso con integración nativa de Python a través de pyngrok. https://pypi.org/project/pyngrok/"
      ]
    },
    {
      "cell_type": "code",
      "metadata": {
        "colab": {
          "base_uri": "https://localhost:8080/"
        },
        "id": "_vUdMXL13V_u",
        "outputId": "2817f804-2232-433f-e50e-75d54d65da7b"
      },
      "source": [
        "! pip install pyngrok"
      ],
      "execution_count": null,
      "outputs": [
        {
          "output_type": "stream",
          "name": "stdout",
          "text": [
            "Requirement already satisfied: pyngrok in /usr/local/lib/python3.7/dist-packages (5.1.0)\n",
            "Requirement already satisfied: PyYAML in /usr/local/lib/python3.7/dist-packages (from pyngrok) (3.13)\n"
          ]
        }
      ]
    },
    {
      "cell_type": "markdown",
      "metadata": {
        "id": "to7oxUQ54oEO"
      },
      "source": [
        "# Configurar Nkrok"
      ]
    },
    {
      "cell_type": "markdown",
      "metadata": {
        "id": "d4ay8pTjQyo-"
      },
      "source": [
        "Se descarga una vercion estable de ngrok para la el sistema linux usado en colab."
      ]
    },
    {
      "cell_type": "code",
      "metadata": {
        "id": "ImOI61hY4q-m",
        "colab": {
          "base_uri": "https://localhost:8080/"
        },
        "outputId": "664439b7-3cd2-4fe8-a051-9fa2122d5bf5"
      },
      "source": [
        "#download ngrok first\n",
        "!wget https://bin.equinox.io/c/4VmDzA7iaHb/ngrok-stable-linux-amd64.zip -q\n",
        "!unzip -q ngrok-stable-linux-amd64.zip"
      ],
      "execution_count": null,
      "outputs": [
        {
          "output_type": "stream",
          "name": "stdout",
          "text": [
            "replace ngrok? [y]es, [n]o, [A]ll, [N]one, [r]ename: A\n"
          ]
        }
      ]
    },
    {
      "cell_type": "markdown",
      "metadata": {
        "id": "M3GaOy3j4yBG"
      },
      "source": [
        "Creacion del tunel http al local host.\n"
      ]
    },
    {
      "cell_type": "code",
      "metadata": {
        "id": "6uf9fDQiOu7s",
        "colab": {
          "base_uri": "https://localhost:8080/",
          "height": 35
        },
        "outputId": "673ca6ee-8f8c-49ac-d413-21a044d8646d"
      },
      "source": [
        "import requests\n",
        "get_ipython().system_raw(\"./ngrok http 8050 &\")\n",
        "# check public url\n",
        "import time\n",
        "\n",
        "time.sleep(3)\n",
        "r = requests.get(\"http://localhost:4040/api/tunnels\")\n",
        "url = r.json()[\"tunnels\"][0][\"public_url\"]\n",
        "url"
      ],
      "execution_count": null,
      "outputs": [
        {
          "output_type": "execute_result",
          "data": {
            "application/vnd.google.colaboratory.intrinsic+json": {
              "type": "string"
            },
            "text/plain": [
              "'https://dc11-34-75-154-33.ngrok.io'"
            ]
          },
          "metadata": {},
          "execution_count": 25
        }
      ]
    },
    {
      "cell_type": "markdown",
      "metadata": {
        "id": "wP1IALuO41Ku"
      },
      "source": [
        "# Mostrar en dash"
      ]
    },
    {
      "cell_type": "markdown",
      "metadata": {
        "id": "ev90ZvXbnELb"
      },
      "source": [
        "Para la creacion de este Dash board se usaron los elemtos mencionados anteriormente, adiciaonando en las secciones html el comando Children, el html.br y style. como se menciono anteriormente este dash contiene en su final dos ejemplos de graficas con sus contrapartes interactivas."
      ]
    },
    {
      "cell_type": "code",
      "metadata": {
        "colab": {
          "base_uri": "https://localhost:8080/",
          "height": 671
        },
        "id": "-GfFZVzH3T2y",
        "outputId": "b9bbb0a2-93c5-4841-a31b-803b25ad4d6c"
      },
      "source": [
        "from jupyter_dash import JupyterDash  # pip install dash\n",
        "import dash\n",
        "import dash_html_components as html\n",
        "import dash_core_components as dcc\n",
        "from dash.dependencies import Output, Input\n",
        "import plotly.express as px\n",
        "import plotly.graph_objects as go\n",
        "from dash import no_update\n",
        "import pandas as pd  # pip install pandas\n",
        "\n",
        "external_stylesheets = [\"https://codepen.io/chriddyp/pen/bWLwgP.css\"]\n",
        "\n",
        "df = px.data.iris()  # Dase de datos iris optenida de plotly.espress\n",
        "\n",
        "app = JupyterDash(\n",
        "    __name__, external_stylesheets=external_stylesheets\n",
        ")  # Crear objeto JupyterDash Para visualisacion en el entorno\n",
        "# Crear un layout para contener el texto y graficas.\n",
        "# Crea Div para separar secciones, no tiene ningún efecto sobre el contenido o el diseño hasta que se le aplica estilo usando CSS.\n",
        "app.layout = html.Div(\n",
        "    children=[\n",
        "        html.H1(\n",
        "            children=\"Hello Word of Dash\",\n",
        "            style={\n",
        "                \"textAlign\": \"center\",\n",
        "                \"color\": \"#0D6080\",\n",
        "            },  # La funcion style nos permite personalizar la estetica del documento\n",
        "        ),  # Crecion del titulo(Encabezado)\n",
        "        html.P(\n",
        "            children=[\n",
        "                \"\"\"\n",
        "                            la idea es que al leer este dash y posteriormente ver el codigo comentado puedan indentificar rapidamente\n",
        "                            las parte que lo componen y su funcionalidad.\n",
        "                            Por ejemplo este es un parrafo y el tirulo anterior estan contruidos con html_components.\n",
        "\n",
        "                \"\"\"\n",
        "            ],\n",
        "            style={\"textAlign\": \"center\", \"color\": \"#004D38\"},\n",
        "        ),  # Creacion Parrafo\n",
        "        dcc.Markdown(\n",
        "            children=[\n",
        "                \"\"\"\n",
        "                             Este dashboard muestra unos ejemplos de graficas sobre la base de datos iris. la cual cuanta con los datos de la variacion morfologica de tres especies distintas de la flor iris. \n",
        "                             Este parrafo esta construido con la herramienta dash-Markdown.\n",
        "\n",
        "                            \"\"\"\n",
        "            ],\n",
        "            style={\"textAlign\": \"center\", \"color\": \"#000000\"},\n",
        "        ),  # Implemetacion de texto con Markdown\n",
        "        html.Div(\n",
        "            [\n",
        "                html.H2(\n",
        "                    children=\"Graficas con funciones(plotly.graph_objects)\",  # Crear subtitulo(los encabezados reduciran su tamaño al aumentar el numero al lado del H)\n",
        "                    style={\n",
        "                        \"textAlign\": \"center\",\n",
        "                        \"color\": \"#0D6080\",\n",
        "                    },  # La funcion style nos permite personalizar la estetica del documento\n",
        "                ),  # Crecion del titulo(Encabezado)\n",
        "                html.P(\n",
        "                    children=[\n",
        "                        \"Ejemplos Graficas:.\",\n",
        "                        html.Br(),\n",
        "                        html.A(\n",
        "                            \"https://plotly.com/python/graph-objects/\",\n",
        "                            href=\"https://plotly.com/python/graph-objects/\",\n",
        "                        ),\n",
        "                    ],\n",
        "                    style={\"textAlign\": \"center\", \"color\": \"#000000\"},\n",
        "                ),  # Creacion Parrafo\n",
        "                dcc.Graph(  # Seccion Grafica\n",
        "                    id=\"example-graph\",  # id Grafica\n",
        "                    figure=go.Figure(data=[  # Grafica barras tipo Go\n",
        "                          go.Bar(x=df.index, y=df.sepal_width, name='sepal_width'), \n",
        "                          go.Bar(x=df.index, y=df.sepal_length, name='sepal_length')], \n",
        "                          layout=go.Layout(title=\"Bar diagram with go\")),\n",
        "                ),\n",
        "                dcc.Graph(  # Seccion Grafica\n",
        "                    id=\"example-graph-boxplot\",  # id Grafica\n",
        "                    figure=go.Figure(data=[  # Grafica barras tipo Go\n",
        "                          go.Box(y=df.sepal_width, name='sepal_width'), \n",
        "                          go.Box(y=df.sepal_length, name='sepal_length')], \n",
        "                          layout=go.Layout(title=\"Boxplot with go\")),\n",
        "                ),\n",
        "                dcc.Graph(  # Seccion Grafica\n",
        "                    id=\"example-graph-histogram\",  # id Grafica\n",
        "                    figure=go.Figure(data=[  # Grafica barras tipo Go\n",
        "                          go.Histogram(x=df.sepal_width)], \n",
        "                          layout=go.Layout(title=\"Histogram with go\")),\n",
        "                ),\n",
        "                html.H2(\n",
        "                    children=\"Graficas con funciones(plotly.express)\",\n",
        "                    style={\n",
        "                        \"textAlign\": \"center\",\n",
        "                        \"color\": \"#0D6080\",\n",
        "                    },  # La funcion style nos permite personalizar la estetica del documento\n",
        "                ),  # Crecion del titulo(Encabezado)\n",
        "                html.P(\n",
        "                    children=[\n",
        "                        \"Ejemplos Graficas:.\",\n",
        "                        html.Br(),\n",
        "                        html.A(\n",
        "                            \"https://plotly.com/python/plotly-express/\",\n",
        "                            href=\"https://plotly.com/python/plotly-express/\",\n",
        "                        ),\n",
        "                    ],\n",
        "                    style={\"textAlign\": \"center\", \"color\": \"#000000\"},\n",
        "                ),  # Creacion Parrafo\n",
        "                dcc.Graph(  # Seccion Grafica\n",
        "                    id=\"example-graph-px\",  # id Grafica\n",
        "                    config={\n",
        "                        \"displayModeBar\": False\n",
        "                    },  # Opciones de configuración de Plotly.js.(config es un dictado con claves)\n",
        "                    # displayModeBar muestra la barra de modo (True, False o 'hover').\n",
        "                    animate=True,  # Activa Funcion animada de ploty\n",
        "                    figure=px.bar(\n",
        "                        df,\n",
        "                        x=df.index,\n",
        "                        y=\"sepal_width\",\n",
        "                        color=df.species,\n",
        "                        title=\"Bar diagram with px\",\n",
        "                    ),  # Grafica Barras con Funciones\n",
        "                ),\n",
        "                dcc.Graph(  # Seccion Grafica\n",
        "                    id=\"example-graph-boxplot-px\",  # id Grafica\n",
        "                    config={\n",
        "                        \"displayModeBar\": False\n",
        "                    },  # Opciones de configuración de Plotly.js.(config es un dictado con claves)\n",
        "                    # displayModeBar muestra la barra de modo (True, False o 'hover').\n",
        "                    animate=True,  # Activa Funcion animada de ploty\n",
        "                    figure=px.box(\n",
        "                        df, y=\"sepal_width\", color=df.species, title=\"Boxplot with px\"\n",
        "                    ),  # Boxplot con Funciones\n",
        "                ),\n",
        "                dcc.Graph(  # Seccion Grafica\n",
        "                    id=\"example-graph-histogram-px\",  # id Grafica\n",
        "                    config={\n",
        "                        \"displayModeBar\": False\n",
        "                    },  # Opciones de configuración de Plotly.js.(config es un dictado con claves)\n",
        "                    # displayModeBar muestra la barra de modo (True, False o 'hover').\n",
        "                    animate=True,  # Activa Funcion animada de ploty\n",
        "                    figure=px.histogram(\n",
        "                        df, x=\"sepal_length\", y=\"sepal_width\", title=\"Histogram with px\"\n",
        "                    ),  # Histograma con Funciones\n",
        "                ),\n",
        "            ],\n",
        "            style={\"columnCount\": 2},\n",
        "        ),  # Estilo 2 columnas\n",
        "        html.Div(\n",
        "            [\n",
        "                html.H2(\n",
        "                    children=\"Graficas mas elaboradas\",\n",
        "                    style={\n",
        "                        \"textAlign\": \"center\",\n",
        "                        \"color\": \"#0D6080\",\n",
        "                    },  # La funcion style nos permite personalizar la estetica del documento\n",
        "                ),  # Crecion del titulo(Encabezado)\n",
        "                html.P(\n",
        "                    children=[\n",
        "                        \"La ventaja de usar funciones es que se pueden crear graficas mas complejas con poco codigo como las siguientes\",\n",
        "                        html.Br(),\n",
        "                        \"en las cuales vemos gran cantidad de datos y estas permiten una implemtacion facil y rapida de los Callback.\",\n",
        "                        html.Br(),\n",
        "                        html.A(\n",
        "                            \"https://plotly.com/python/\",\n",
        "                            href=\"https://plotly.com/python/\",\n",
        "                        ),\n",
        "                        html.Br(),\n",
        "                        html.A(\n",
        "                            \"https://plotly.com/python/statistical-charts/\",\n",
        "                            href=\"https://plotly.com/python/statistical-charts/\",\n",
        "                        ),\n",
        "                        html.Br(),\n",
        "                        html.A(\n",
        "                            \"https://plotly.com/python/ai-ml/\",\n",
        "                            href=\"https://plotly.com/python/ai-ml/\",\n",
        "                        ),\n",
        "                    ],\n",
        "                    style={\"textAlign\": \"center\", \"color\": \"#000000\"},\n",
        "                ),  # Creacion Parrafo\n",
        "                dcc.Graph(  # Seccion Grafica\n",
        "                    id=\"example-graph-multyscatter-px\",  # id Grafica\n",
        "                    config={\n",
        "                        \"displayModeBar\": False\n",
        "                    },  # Opciones de configuración de Plotly.js.(config es un dictado con claves)\n",
        "                    # displayModeBar muestra la barra de modo (True, False o 'hover').\n",
        "                    animate=True,  # Activa Funcion animada de ploty\n",
        "                    figure=px.scatter_matrix(\n",
        "                        df,\n",
        "                        dimensions=[\n",
        "                            \"sepal_width\",\n",
        "                            \"sepal_length\",\n",
        "                            \"petal_width\",\n",
        "                            \"petal_length\",\n",
        "                        ],\n",
        "                        color=\"species\",\n",
        "                        title=\"scatteplot with px\",\n",
        "                    ),  # Grafica matriz scater plot\n",
        "                ),\n",
        "                dcc.Graph(  # Seccion Grafica\n",
        "                    id=\"example-graph-histmarginal-px\",  # id Grafica\n",
        "                    config={\n",
        "                        \"displayModeBar\": False\n",
        "                    },  # Opciones de configuración de Plotly.js.(config es un dictado con claves)\n",
        "                    # displayModeBar muestra la barra de modo (True, False o 'hover').\n",
        "                    animate=True,  # Activa Funcion animada de ploty\n",
        "                    figure=px.histogram(\n",
        "                        df,\n",
        "                        x=\"sepal_length\",\n",
        "                        y=\"sepal_width\",\n",
        "                        color=\"species\",\n",
        "                        marginal=\"box\",\n",
        "                        title=\"Scatterplot with marginal graf x, y in px\",\n",
        "                    ),  # Historagama con grafica marginal boxplot\n",
        "                ),\n",
        "                html.H3(\n",
        "                    children=\"Graficas interactivas(Callback)\",\n",
        "                    style={\n",
        "                        \"textAlign\": \"center\",\n",
        "                        \"color\": \"#0D6080\",\n",
        "                    },  # La funcion style nos permite personalizar la estetica del documento\n",
        "                ),  # Crecion del titulo(Encabezado)\n",
        "                dcc.Dropdown(\n",
        "                    id=\"dropdown\",  # id Multi-Select Dropdown\n",
        "                    options=[{\"label\": x, \"value\": x} for x in [\"sepal_width\", \"sepal_length\", \"petal_width\", \"petal_length\"]],\n",
        "                    value=[\"sepal_width\", \"sepal_length\"],\n",
        "                    multi=True,\n",
        "                ),\n",
        "                dcc.Graph(id=\"splom\"),  # id Grafica\n",
        "                dcc.Graph(id=\"graph\"),  # id Grafica\n",
        "                html.P(\"Select Distribution:\"),\n",
        "                dcc.RadioItems(\n",
        "                    id=\"dist-marginal\",  # id Checkboxes\n",
        "                    options=[\n",
        "                        {\"label\": x, \"value\": x} for x in [\"box\", \"rug\", \"violin\"]\n",
        "                    ],\n",
        "                    value=\"box\",\n",
        "                ),\n",
        "            ],\n",
        "            style={\"columnCount\": 2},\n",
        "        ),  # Estilo 2 columnas\n",
        "    ]\n",
        ")\n",
        "\n",
        "@app.callback(Output(\"splom\", \"figure\"), [Input(\"dropdown\", \"value\")])  # id Grafica\n",
        "def update_bar_chart(dims):\n",
        "    fig = px.scatter_matrix(df, dimensions=dims, color=\"species\")\n",
        "    return fig\n",
        "\n",
        "@app.callback(\n",
        "    Output(\"graph\", \"figure\"), [Input(\"dist-marginal\", \"value\")]  # id Grafica\n",
        ")\n",
        "def display_graph(marginal):\n",
        "    fig = px.histogram(\n",
        "        df,\n",
        "        x=\"sepal_length\",\n",
        "        y=\"sepal_width\",\n",
        "        color=\"species\",\n",
        "        marginal=marginal,\n",
        "        hover_data=df.columns,\n",
        "    )\n",
        "    return fig\n",
        "\n",
        "app.run_server(mode=\"inline\", port=8050)\n",
        "\n",
        "# 636EFB violeta graf \n",
        "# EF553B naranja graf\n",
        "# 00CD95 verde graf\n",
        "# 004D38 Verde cool\n"
      ],
      "execution_count": null,
      "outputs": [
        {
          "output_type": "display_data",
          "data": {
            "application/javascript": [
              "(async (port, path, width, height, cache, element) => {\n",
              "    if (!google.colab.kernel.accessAllowed && !cache) {\n",
              "      return;\n",
              "    }\n",
              "    element.appendChild(document.createTextNode(''));\n",
              "    const url = await google.colab.kernel.proxyPort(port, {cache});\n",
              "    const iframe = document.createElement('iframe');\n",
              "    iframe.src = new URL(path, url).toString();\n",
              "    iframe.height = height;\n",
              "    iframe.width = width;\n",
              "    iframe.style.border = 0;\n",
              "    element.appendChild(iframe);\n",
              "  })(8050, \"/\", \"100%\", 650, false, window.element)"
            ],
            "text/plain": [
              "<IPython.core.display.Javascript object>"
            ]
          },
          "metadata": {}
        }
      ]
    },
    {
      "cell_type": "markdown",
      "metadata": {
        "id": "O1cJ5KlXPdU0"
      },
      "source": [
        "Ir a este link para ver página"
      ]
    },
    {
      "cell_type": "code",
      "metadata": {
        "id": "0hEHb8sZ-Bab",
        "colab": {
          "base_uri": "https://localhost:8080/",
          "height": 35
        },
        "outputId": "58b2a24f-983b-4292-d422-1fca3ce0b9c1"
      },
      "source": [
        "url"
      ],
      "execution_count": null,
      "outputs": [
        {
          "output_type": "execute_result",
          "data": {
            "application/vnd.google.colaboratory.intrinsic+json": {
              "type": "string"
            },
            "text/plain": [
              "'https://dc11-34-75-154-33.ngrok.io'"
            ]
          },
          "metadata": {},
          "execution_count": 27
        }
      ]
    },
    {
      "cell_type": "code",
      "metadata": {
        "id": "Q1oP3WYSspsc"
      },
      "source": [
        ""
      ],
      "execution_count": null,
      "outputs": []
    }
  ]
}