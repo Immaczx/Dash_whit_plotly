{
  "nbformat": 4,
  "nbformat_minor": 0,
  "metadata": {
    "colab": {
      "name": "Hello World of Dash.ipynb",
      "provenance": [],
      "collapsed_sections": [],
      "include_colab_link": true
    },
    "kernelspec": {
      "name": "python3",
      "display_name": "Python 3"
    },
    "language_info": {
      "name": "python"
    }
  },
  "cells": [
    {
      "cell_type": "markdown",
      "metadata": {
        "id": "view-in-github",
        "colab_type": "text"
      },
      "source": [
        "<a href=\"https://colab.research.google.com/github/Immaczx/Dash_whit_plotly/blob/main/Hello_World_of_Dash.ipynb\" target=\"_parent\"><img src=\"https://colab.research.google.com/assets/colab-badge.svg\" alt=\"Open In Colab\"/></a>"
      ]
    },
    {
      "cell_type": "markdown",
      "metadata": {
        "id": "pi_mARLbZSC-"
      },
      "source": [
        "## Dash\n",
        "\n",
        "Es un framework de código abierto para crear interfaces de visualización de datos, formalmente Dash fue lanzado como una biblioteca de código abierto para crear visualizaciones interactivas basadas en la Web y se construyó sobre Flask, Plotly.js y React Js,  este ha crecido para incluir implementaciones para R y Julia.\n",
        "\n",
        "Pero no tiene que preocuparse por hacer que todas estas tecnologías funcionen juntas, dash permite crear paneles utilizando Python puro. Tener conocimientos de HTML y javascript es útil, pero ciertamente no es necesario para obtener una buena visualización, solo necesita escribir Python, R o Julia y espolvorearlo con un poco de CSS si desea una visualisacion mas profecional."
      ]
    },
    {
      "cell_type": "markdown",
      "metadata": {
        "id": "_papKSRDZnV8"
      },
      "source": [
        "Este Notebook se hizo con la intencion de dar una guia clara para la facil comprencion de estructura, implementacion y posibilidad de la libreria Dash en la creacion de Dashboards. \n",
        "\n",
        "### Links usados para el tutorial\n",
        "\n",
        "https://dash.plotly.com/layout\n",
        "\n",
        "https://pbpython.com/plotly-dash-intro.html\n",
        "\n",
        "https://realpython.com/python-dash/#what-is-dash\n",
        "\n",
        "https://www.datacamp.com/community/tutorials/learn-build-dash-python\n",
        "\n",
        "https://www.youtube.com/watch?v=FxEY1NOyhYQ"
      ]
    },
    {
      "cell_type": "markdown",
      "metadata": {
        "id": "3WMh-RTbcZK6"
      },
      "source": [
        "## Html components\n",
        "\n",
        "Para hablar de la creacion de visualisaciones en Dash hay que hablar un poco de como costruir con HTML, donde necesitaremos un layout, que contenga bloques(textos y graficas) que querramos incluir mediente el uso de etiquetas son similares a la forma que utilizamos para manipular contenido en latex.\n",
        "\n",
        "Pero en lugar de escribir HTML o usar un motor de plantillas HTML, compondremos nuestro diseño usando estructuras de Python con la dash-html-components biblioteca.\n",
        "\n",
        "### En el siguiente link se encuentran ejemplos ilustrativos de como hacerlo.\n",
        "\n",
        "https://dash.plotly.com/dash-html-components"
      ]
    },
    {
      "cell_type": "code",
      "metadata": {
        "colab": {
          "base_uri": "https://localhost:8080/"
        },
        "id": "deMBDubHqWfZ",
        "outputId": "7bd68072-3257-4da9-e876-b5af1cfc5908"
      },
      "source": [
        "import dash_html_components as html\n",
        "\n",
        "html.Div([\n",
        "    html.H1('Hello world of Dash'),\n",
        "    html.Div([\n",
        "        html.P('Dash convierte las clases de Python en HTML'),\n",
        "        html.P(\"Esta conversión se realiza entre bastidores mediante el front-end JavaScript de Dash\")\n",
        "    ])\n",
        "])"
      ],
      "execution_count": null,
      "outputs": [
        {
          "output_type": "execute_result",
          "data": {
            "text/plain": [
              "Div([H1('Hello world of Dash'), Div([P('Dash convierte las clases de Python en HTML'), P('Esta conversión se realiza entre bastidores mediante el front-end JavaScript de Dash')])])"
            ]
          },
          "metadata": {},
          "execution_count": 18
        }
      ]
    },
    {
      "cell_type": "markdown",
      "metadata": {
        "id": "VQciHUfMcg0C"
      },
      "source": [
        "### Dash and Markdown\n",
        "\n",
        "Dash nos ofrece una opcion de usar Markdowns como en los notebooks.\n",
        "\n",
        "Soportes Dash [Markdown](http://commonmark.org/help).\n",
        "\n",
        "Markdown es una forma sencilla de escribir y formatear texto.\n",
        "Incluye una sintaxis para cosas como **negrita** y *cursiva*,\n",
        "[links](http://commonmark.org/help), fragmentos de `código` en línea, listas,\n",
        "citas y mucho más."
      ]
    },
    {
      "cell_type": "code",
      "metadata": {
        "colab": {
          "base_uri": "https://localhost:8080/"
        },
        "id": "3M8TXlNCrAKM",
        "outputId": "13143813-d416-4f37-ecb1-7be60c785480"
      },
      "source": [
        "import dash_core_components as dcc\n",
        "\n",
        "dcc.Markdown('''\n",
        "#### Dash and Markdown\n",
        "\n",
        "Dash nos ofrece una opcion de usar Markdowns como en los notebooks.\n",
        "\n",
        "Soportes Dash [Markdown](http://commonmark.org/help).\n",
        "\n",
        "Markdown es una forma sencilla de escribir y formatear texto.\n",
        "Incluye una sintaxis para cosas como **negrita** y *cursiva*,\n",
        "[links](http://commonmark.org/help), fragmentos de `código` en línea, listas,\n",
        "citas y mucho más.\n",
        "''')"
      ],
      "execution_count": null,
      "outputs": [
        {
          "output_type": "execute_result",
          "data": {
            "text/plain": [
              "Markdown('\\n#### Dash and Markdown\\n\\nDash nos ofrece una opcion de usar Markdowns como en los notebooks.\\n\\nSoportes Dash [Markdown](http://commonmark.org/help).\\n\\nMarkdown es una forma sencilla de escribir y formatear texto.\\nIncluye una sintaxis para cosas como **negrita** y *cursiva*,\\n[links](http://commonmark.org/help), fragmentos de `código` en línea, listas,\\ncitas y mucho más.\\n')"
            ]
          },
          "metadata": {},
          "execution_count": 22
        }
      ]
    },
    {
      "cell_type": "markdown",
      "metadata": {
        "id": "gWiDjH__b-3U"
      },
      "source": [
        "## Graficas\n",
        "\n",
        "Los graficos seran el componentes de principal interes ya que un dashboard es una herramienta de gestión de la información que muestra de manera visual los indicadores clave de desempeño (KPI).\n",
        "\n",
        "Asi que nesesitaremos formas vistosas y eficientes para mostrar estos (KPI), dash ofrece diferentes librerias para graficos\n",
        "ademas de la opcion de los callbacks para graficas interactivas.\n",
        "\n",
        "### En el siguiente link se encuentran ejemplos de las graficas.\n",
        "\n",
        "https://dash.plotly.com/dash-core-components/graph\n",
        "\n",
        "### Ejemplos de graficas sin usas librerias \n",
        "\n",
        "https://www.chartjs.org/docs/latest/charts/\n",
        "\n",
        "https://developers.google.com/chart/interactive/docs/gallery/areachart\n"
      ]
    },
    {
      "cell_type": "markdown",
      "metadata": {
        "id": "e1GVqr1W0drZ"
      },
      "source": [
        "# Instalar componetes para usar Dash en colab\n",
        "\n"
      ]
    },
    {
      "cell_type": "markdown",
      "metadata": {
        "id": "UcTMSQnFK9zw"
      },
      "source": [
        "La linea \"pip install jupyter-dash -q\" permite el uso de la visualisacion de Dash propia del compilador jupyter en colab"
      ]
    },
    {
      "cell_type": "code",
      "metadata": {
        "id": "xYtZ7Fu10a-n",
        "colab": {
          "base_uri": "https://localhost:8080/"
        },
        "outputId": "6317ce33-2544-48ae-cb46-aea06353512e"
      },
      "source": [
        "pip install jupyter-dash -q "
      ],
      "execution_count": null,
      "outputs": [
        {
          "output_type": "stream",
          "name": "stdout",
          "text": [
            "\u001b[K     |████████████████████████████████| 7.3 MB 5.5 MB/s \n",
            "\u001b[K     |████████████████████████████████| 23.9 MB 14 kB/s \n",
            "\u001b[K     |████████████████████████████████| 357 kB 54.2 MB/s \n",
            "\u001b[?25h  Building wheel for dash-core-components (setup.py) ... \u001b[?25l\u001b[?25hdone\n",
            "  Building wheel for dash-html-components (setup.py) ... \u001b[?25l\u001b[?25hdone\n",
            "  Building wheel for dash-table (setup.py) ... \u001b[?25l\u001b[?25hdone\n"
          ]
        }
      ]
    },
    {
      "cell_type": "markdown",
      "metadata": {
        "id": "WxBvQ1ipTtr4"
      },
      "source": [
        "La linea \"pip install pyngrok\" permite intalar una api de ngrok en python. ngrok es una herramienta de proxy inverso que abre túneles seguros desde URL públicas a localhost, perfecta para exponer servidores web locales, crear integraciones de webhook, habilitar el acceso SSH, probar chatbots, hacer demostraciones desde su propia máquina y más, y se hace aún más poderoso con integración nativa de Python a través de pyngrok. https://pypi.org/project/pyngrok/"
      ]
    },
    {
      "cell_type": "code",
      "metadata": {
        "colab": {
          "base_uri": "https://localhost:8080/"
        },
        "id": "_vUdMXL13V_u",
        "outputId": "8aeabd98-e8a4-462d-9a93-4db98942e268"
      },
      "source": [
        "! pip install pyngrok"
      ],
      "execution_count": null,
      "outputs": [
        {
          "output_type": "stream",
          "name": "stdout",
          "text": [
            "Collecting pyngrok\n",
            "  Downloading pyngrok-5.1.0.tar.gz (745 kB)\n",
            "\u001b[?25l\r\u001b[K     |▍                               | 10 kB 26.7 MB/s eta 0:00:01\r\u001b[K     |▉                               | 20 kB 10.8 MB/s eta 0:00:01\r\u001b[K     |█▎                              | 30 kB 8.3 MB/s eta 0:00:01\r\u001b[K     |█▊                              | 40 kB 7.6 MB/s eta 0:00:01\r\u001b[K     |██▏                             | 51 kB 4.2 MB/s eta 0:00:01\r\u001b[K     |██▋                             | 61 kB 4.4 MB/s eta 0:00:01\r\u001b[K     |███                             | 71 kB 4.4 MB/s eta 0:00:01\r\u001b[K     |███▌                            | 81 kB 4.9 MB/s eta 0:00:01\r\u001b[K     |████                            | 92 kB 5.1 MB/s eta 0:00:01\r\u001b[K     |████▍                           | 102 kB 4.1 MB/s eta 0:00:01\r\u001b[K     |████▉                           | 112 kB 4.1 MB/s eta 0:00:01\r\u001b[K     |█████▎                          | 122 kB 4.1 MB/s eta 0:00:01\r\u001b[K     |█████▊                          | 133 kB 4.1 MB/s eta 0:00:01\r\u001b[K     |██████▏                         | 143 kB 4.1 MB/s eta 0:00:01\r\u001b[K     |██████▋                         | 153 kB 4.1 MB/s eta 0:00:01\r\u001b[K     |███████                         | 163 kB 4.1 MB/s eta 0:00:01\r\u001b[K     |███████▌                        | 174 kB 4.1 MB/s eta 0:00:01\r\u001b[K     |████████                        | 184 kB 4.1 MB/s eta 0:00:01\r\u001b[K     |████████▍                       | 194 kB 4.1 MB/s eta 0:00:01\r\u001b[K     |████████▉                       | 204 kB 4.1 MB/s eta 0:00:01\r\u001b[K     |█████████▎                      | 215 kB 4.1 MB/s eta 0:00:01\r\u001b[K     |█████████▊                      | 225 kB 4.1 MB/s eta 0:00:01\r\u001b[K     |██████████▏                     | 235 kB 4.1 MB/s eta 0:00:01\r\u001b[K     |██████████▌                     | 245 kB 4.1 MB/s eta 0:00:01\r\u001b[K     |███████████                     | 256 kB 4.1 MB/s eta 0:00:01\r\u001b[K     |███████████▍                    | 266 kB 4.1 MB/s eta 0:00:01\r\u001b[K     |███████████▉                    | 276 kB 4.1 MB/s eta 0:00:01\r\u001b[K     |████████████▎                   | 286 kB 4.1 MB/s eta 0:00:01\r\u001b[K     |████████████▊                   | 296 kB 4.1 MB/s eta 0:00:01\r\u001b[K     |█████████████▏                  | 307 kB 4.1 MB/s eta 0:00:01\r\u001b[K     |█████████████▋                  | 317 kB 4.1 MB/s eta 0:00:01\r\u001b[K     |██████████████                  | 327 kB 4.1 MB/s eta 0:00:01\r\u001b[K     |██████████████▌                 | 337 kB 4.1 MB/s eta 0:00:01\r\u001b[K     |███████████████                 | 348 kB 4.1 MB/s eta 0:00:01\r\u001b[K     |███████████████▍                | 358 kB 4.1 MB/s eta 0:00:01\r\u001b[K     |███████████████▉                | 368 kB 4.1 MB/s eta 0:00:01\r\u001b[K     |████████████████▎               | 378 kB 4.1 MB/s eta 0:00:01\r\u001b[K     |████████████████▊               | 389 kB 4.1 MB/s eta 0:00:01\r\u001b[K     |█████████████████▏              | 399 kB 4.1 MB/s eta 0:00:01\r\u001b[K     |█████████████████▋              | 409 kB 4.1 MB/s eta 0:00:01\r\u001b[K     |██████████████████              | 419 kB 4.1 MB/s eta 0:00:01\r\u001b[K     |██████████████████▌             | 430 kB 4.1 MB/s eta 0:00:01\r\u001b[K     |███████████████████             | 440 kB 4.1 MB/s eta 0:00:01\r\u001b[K     |███████████████████▍            | 450 kB 4.1 MB/s eta 0:00:01\r\u001b[K     |███████████████████▉            | 460 kB 4.1 MB/s eta 0:00:01\r\u001b[K     |████████████████████▎           | 471 kB 4.1 MB/s eta 0:00:01\r\u001b[K     |████████████████████▋           | 481 kB 4.1 MB/s eta 0:00:01\r\u001b[K     |█████████████████████           | 491 kB 4.1 MB/s eta 0:00:01\r\u001b[K     |█████████████████████▌          | 501 kB 4.1 MB/s eta 0:00:01\r\u001b[K     |██████████████████████          | 512 kB 4.1 MB/s eta 0:00:01\r\u001b[K     |██████████████████████▍         | 522 kB 4.1 MB/s eta 0:00:01\r\u001b[K     |██████████████████████▉         | 532 kB 4.1 MB/s eta 0:00:01\r\u001b[K     |███████████████████████▎        | 542 kB 4.1 MB/s eta 0:00:01\r\u001b[K     |███████████████████████▊        | 552 kB 4.1 MB/s eta 0:00:01\r\u001b[K     |████████████████████████▏       | 563 kB 4.1 MB/s eta 0:00:01\r\u001b[K     |████████████████████████▋       | 573 kB 4.1 MB/s eta 0:00:01\r\u001b[K     |█████████████████████████       | 583 kB 4.1 MB/s eta 0:00:01\r\u001b[K     |█████████████████████████▌      | 593 kB 4.1 MB/s eta 0:00:01\r\u001b[K     |██████████████████████████      | 604 kB 4.1 MB/s eta 0:00:01\r\u001b[K     |██████████████████████████▍     | 614 kB 4.1 MB/s eta 0:00:01\r\u001b[K     |██████████████████████████▉     | 624 kB 4.1 MB/s eta 0:00:01\r\u001b[K     |███████████████████████████▎    | 634 kB 4.1 MB/s eta 0:00:01\r\u001b[K     |███████████████████████████▊    | 645 kB 4.1 MB/s eta 0:00:01\r\u001b[K     |████████████████████████████▏   | 655 kB 4.1 MB/s eta 0:00:01\r\u001b[K     |████████████████████████████▋   | 665 kB 4.1 MB/s eta 0:00:01\r\u001b[K     |█████████████████████████████   | 675 kB 4.1 MB/s eta 0:00:01\r\u001b[K     |█████████████████████████████▌  | 686 kB 4.1 MB/s eta 0:00:01\r\u001b[K     |██████████████████████████████  | 696 kB 4.1 MB/s eta 0:00:01\r\u001b[K     |██████████████████████████████▍ | 706 kB 4.1 MB/s eta 0:00:01\r\u001b[K     |██████████████████████████████▊ | 716 kB 4.1 MB/s eta 0:00:01\r\u001b[K     |███████████████████████████████▏| 727 kB 4.1 MB/s eta 0:00:01\r\u001b[K     |███████████████████████████████▋| 737 kB 4.1 MB/s eta 0:00:01\r\u001b[K     |████████████████████████████████| 745 kB 4.1 MB/s \n",
            "\u001b[?25hRequirement already satisfied: PyYAML in /usr/local/lib/python3.7/dist-packages (from pyngrok) (3.13)\n",
            "Building wheels for collected packages: pyngrok\n",
            "  Building wheel for pyngrok (setup.py) ... \u001b[?25l\u001b[?25hdone\n",
            "  Created wheel for pyngrok: filename=pyngrok-5.1.0-py3-none-any.whl size=19006 sha256=da3a2d7053624c190b40634e67d83ed5a35e895738f28551b46976fddb79bdb7\n",
            "  Stored in directory: /root/.cache/pip/wheels/bf/e6/af/ccf6598ecefecd44104069371795cb9b3afbcd16987f6ccfb3\n",
            "Successfully built pyngrok\n",
            "Installing collected packages: pyngrok\n",
            "Successfully installed pyngrok-5.1.0\n"
          ]
        }
      ]
    },
    {
      "cell_type": "markdown",
      "metadata": {
        "id": "to7oxUQ54oEO"
      },
      "source": [
        "# Configurar Nkrok"
      ]
    },
    {
      "cell_type": "code",
      "metadata": {
        "id": "ImOI61hY4q-m"
      },
      "source": [
        "# import requests\n",
        "# #download ngrok first\n",
        "# !wget https://bin.equinox.io/c/4VmDzA7iaHb/ngrok-stable-linux-amd64.zip -q\n",
        "# !unzip -q ngrok-stable-linux-amd64.zip"
      ],
      "execution_count": null,
      "outputs": []
    },
    {
      "cell_type": "markdown",
      "metadata": {
        "id": "M3GaOy3j4yBG"
      },
      "source": [
        "Creacion del tunel http al local host"
      ]
    },
    {
      "cell_type": "code",
      "metadata": {
        "id": "6uf9fDQiOu7s",
        "colab": {
          "base_uri": "https://localhost:8080/",
          "height": 36
        },
        "outputId": "8f7c9e59-7a07-45c2-b1d4-4c83119bbed8"
      },
      "source": [
        "get_ipython().system_raw(\"./ngrok http 8050 &\")\n",
        "# check public url\n",
        "import time\n",
        "\n",
        "time.sleep(3)\n",
        "r = requests.get(\"http://localhost:4040/api/tunnels\")\n",
        "url = r.json()[\"tunnels\"][0][\"public_url\"]\n",
        "url\n"
      ],
      "execution_count": null,
      "outputs": [
        {
          "output_type": "execute_result",
          "data": {
            "application/vnd.google.colaboratory.intrinsic+json": {
              "type": "string"
            },
            "text/plain": [
              "'https://490b-34-80-40-144.ngrok.io'"
            ]
          },
          "metadata": {},
          "execution_count": 12
        }
      ]
    },
    {
      "cell_type": "markdown",
      "metadata": {
        "id": "wP1IALuO41Ku"
      },
      "source": [
        "# Mostrar en dash"
      ]
    },
    {
      "cell_type": "code",
      "metadata": {
        "colab": {
          "base_uri": "https://localhost:8080/",
          "height": 670
        },
        "id": "-GfFZVzH3T2y",
        "outputId": "b640c3ab-ce05-4a13-d4dd-9b6c9efea638"
      },
      "source": [
        "from jupyter_dash import JupyterDash  # pip install dash\n",
        "import dash\n",
        "import dash_html_components as html\n",
        "import dash_core_components as dcc\n",
        "from dash.dependencies import Output, Input\n",
        "import plotly.express as px\n",
        "import plotly.graph_objects as go\n",
        "from dash import no_update\n",
        "import pandas as pd  # pip install pandas\n",
        "\n",
        "external_stylesheets = [\"https://codepen.io/chriddyp/pen/bWLwgP.css\"]\n",
        "\n",
        "df = px.data.iris()  # Dase de datos iris\n",
        "\n",
        "all_dims = [\n",
        "    \"sepal_width\",\n",
        "    \"sepal_length\",  # Vector para callback interactivo en multyplot sacatter\n",
        "    \"petal_width\",\n",
        "    \"petal_length\",\n",
        "]\n",
        "\n",
        "app = JupyterDash(\n",
        "    __name__, external_stylesheets=external_stylesheets\n",
        ")  # Crear objeto JupyterDash Para visualisacion en el entorno\n",
        "# Crear un layout para contener el texto y graficas.\n",
        "# Crea Div para separar secciones, no tiene ningún efecto sobre el contenido o el diseño hasta que se le aplica estilo usando CSS.\n",
        "app.layout = html.Div(\n",
        "    children=[\n",
        "        html.H1(\n",
        "            children=\"Hello Word of Dash\",\n",
        "            style={\n",
        "                \"textAlign\": \"center\",\n",
        "                \"color\": \"#0D6080\",\n",
        "            },  # La funcion style nos permite personalizar la estetica del documento\n",
        "        ),  # Crecion del titulo(Encabezado)\n",
        "        html.P(\n",
        "            children=[\n",
        "                \"\"\"\n",
        "                            la idea es que al leer este dash y posteriormente ver el codigo comentado puedan indentificar rapidamente\n",
        "                            las parte que lo componen y su funcionalidad.\n",
        "                            Por ejemplo este es un parrafo de HTML.\n",
        "\n",
        "                \"\"\"\n",
        "            ],\n",
        "            style={\"textAlign\": \"center\", \"color\": \"#004D38\"},\n",
        "        ),  # Creacion Parrafo\n",
        "        dcc.Markdown(\n",
        "            children=[\n",
        "                \"\"\"\n",
        "                             Y este parrafo esta Construido con la herramienta dash-Markdown.\n",
        "\n",
        "                            \"\"\"\n",
        "            ],\n",
        "            style={\"textAlign\": \"center\", \"color\": \"#000000\"},\n",
        "        ),  # Implemetacion de texto con Markdown\n",
        "        html.Div(\n",
        "            [\n",
        "                html.H2(\n",
        "                    children=\"Graficas con funciones(plotly.graph_objects)\",  # Crear subtitulo(los encabezados reduciran su tamaño al aumentar el numero al lado del H)\n",
        "                    style={\n",
        "                        \"textAlign\": \"center\",\n",
        "                        \"color\": \"#0D6080\",\n",
        "                    },  # La funcion style nos permite personalizar la estetica del documento\n",
        "                ),  # Crecion del titulo(Encabezado)\n",
        "                html.P(\n",
        "                    children=[\n",
        "                        \"Ejemplos Graficas:.\",\n",
        "                        html.Br(),\n",
        "                        html.A(\n",
        "                            \"https://plotly.com/python/graph-objects/\",\n",
        "                            href=\"https://plotly.com/python/graph-objects/\",\n",
        "                        ),\n",
        "                    ],\n",
        "                    style={\"textAlign\": \"center\", \"color\": \"#000000\"},\n",
        "                ),  # Creacion Parrafo\n",
        "                dcc.Graph(  # Seccion Grafica\n",
        "                    id=\"example-graph\",  # id Grafica\n",
        "                    figure=go.Figure(data=[  # Grafica barras tipo Go\n",
        "                          go.Bar(x=df.index, y=df.sepal_width, name='sepal_width'), \n",
        "                          go.Bar(x=df.index, y=df.sepal_length, name='sepal_length')], \n",
        "                          layout=go.Layout(title=\"Bar diagram with go\")),\n",
        "                ),\n",
        "                dcc.Graph(  # Seccion Grafica\n",
        "                    id=\"example-graph-boxplot\",  # id Grafica\n",
        "                    figure=go.Figure(data=[  # Grafica barras tipo Go\n",
        "                          go.Box(y=df.sepal_width, name='sepal_width'), \n",
        "                          go.Box(y=df.sepal_length, name='sepal_length')], \n",
        "                          layout=go.Layout(title=\"Boxplot with go\")),\n",
        "                ),\n",
        "                dcc.Graph(  # Seccion Grafica\n",
        "                    id=\"example-graph-histogram\",  # id Grafica\n",
        "                    figure=go.Figure(data=[  # Grafica barras tipo Go\n",
        "                          go.Histogram(x=df.sepal_width)], \n",
        "                          layout=go.Layout(title=\"Histogram with go\")),\n",
        "                ),\n",
        "                html.H2(\n",
        "                    children=\"Graficas con funciones(plotly.express)\",\n",
        "                    style={\n",
        "                        \"textAlign\": \"center\",\n",
        "                        \"color\": \"#0D6080\",\n",
        "                    },  # La funcion style nos permite personalizar la estetica del documento\n",
        "                ),  # Crecion del titulo(Encabezado)\n",
        "                html.P(\n",
        "                    children=[\n",
        "                        \"Ejemplos Graficas:.\",\n",
        "                        html.Br(),\n",
        "                        html.A(\n",
        "                            \"https://plotly.com/python/plotly-express/\",\n",
        "                            href=\"https://plotly.com/python/plotly-express/\",\n",
        "                        ),\n",
        "                    ],\n",
        "                    style={\"textAlign\": \"center\", \"color\": \"#000000\"},\n",
        "                ),  # Creacion Parrafo\n",
        "                dcc.Graph(  # Seccion Grafica\n",
        "                    id=\"example-graph-px\",  # id Grafica\n",
        "                    config={\n",
        "                        \"displayModeBar\": False\n",
        "                    },  # Opciones de configuración de Plotly.js.(config es un dictado con claves)\n",
        "                    # displayModeBar muestra la barra de modo (True, False o 'hover').\n",
        "                    animate=True,  # Activa Funcion animada de ploty\n",
        "                    figure=px.bar(\n",
        "                        df,\n",
        "                        x=df.index,\n",
        "                        y=\"sepal_width\",\n",
        "                        color=df.species,\n",
        "                        title=\"Bar diagram with px\",\n",
        "                    ),  # Grafica Barras con Funciones\n",
        "                ),\n",
        "                dcc.Graph(  # Seccion Grafica\n",
        "                    id=\"example-graph-boxplot-px\",  # id Grafica\n",
        "                    config={\n",
        "                        \"displayModeBar\": False\n",
        "                    },  # Opciones de configuración de Plotly.js.(config es un dictado con claves)\n",
        "                    # displayModeBar muestra la barra de modo (True, False o 'hover').\n",
        "                    animate=True,  # Activa Funcion animada de ploty\n",
        "                    figure=px.box(\n",
        "                        df, y=\"sepal_width\", color=df.species, title=\"Boxplot with px\"\n",
        "                    ),  # Boxplot con Funciones\n",
        "                ),\n",
        "                dcc.Graph(  # Seccion Grafica\n",
        "                    id=\"example-graph-histogram-px\",  # id Grafica\n",
        "                    config={\n",
        "                        \"displayModeBar\": False\n",
        "                    },  # Opciones de configuración de Plotly.js.(config es un dictado con claves)\n",
        "                    # displayModeBar muestra la barra de modo (True, False o 'hover').\n",
        "                    animate=True,  # Activa Funcion animada de ploty\n",
        "                    figure=px.histogram(\n",
        "                        df, x=\"sepal_length\", y=\"sepal_width\", title=\"Histogram with px\"\n",
        "                    ),  # Histograma con Funciones\n",
        "                ),\n",
        "            ],\n",
        "            style={\"columnCount\": 2},\n",
        "        ),  # Estilo 2 columnas\n",
        "        html.Div(\n",
        "            [\n",
        "                html.H2(\n",
        "                    children=\"Graficas mas elaboradas\",\n",
        "                    style={\n",
        "                        \"textAlign\": \"center\",\n",
        "                        \"color\": \"#0D6080\",\n",
        "                    },  # La funcion style nos permite personalizar la estetica del documento\n",
        "                ),  # Crecion del titulo(Encabezado)\n",
        "                html.P(\n",
        "                    children=[\n",
        "                        \"La ventaja de usar funciones es que se pueden crear graficas mas complejas con poco codigo como las siguientes\",\n",
        "                        html.Br(),\n",
        "                        \"en las cuales vemos gran cantidad de datos y estas permiten una implemtacion facil y rapida de los Callback.\",\n",
        "                        html.Br(),\n",
        "                        html.A(\n",
        "                            \"https://plotly.com/python/\",\n",
        "                            href=\"https://plotly.com/python/\",\n",
        "                        ),\n",
        "                        html.Br(),\n",
        "                        html.A(\n",
        "                            \"https://plotly.com/python/statistical-charts/\",\n",
        "                            href=\"https://plotly.com/python/statistical-charts/\",\n",
        "                        ),\n",
        "                        html.Br(),\n",
        "                        html.A(\n",
        "                            \"https://plotly.com/python/ai-ml/\",\n",
        "                            href=\"https://plotly.com/python/ai-ml/\",\n",
        "                        ),\n",
        "                    ],\n",
        "                    style={\"textAlign\": \"center\", \"color\": \"#000000\"},\n",
        "                ),  # Creacion Parrafo\n",
        "                dcc.Graph(  # Seccion Grafica\n",
        "                    id=\"example-graph-multyscatter-px\",  # id Grafica\n",
        "                    config={\n",
        "                        \"displayModeBar\": False\n",
        "                    },  # Opciones de configuración de Plotly.js.(config es un dictado con claves)\n",
        "                    # displayModeBar muestra la barra de modo (True, False o 'hover').\n",
        "                    animate=True,  # Activa Funcion animada de ploty\n",
        "                    figure=px.scatter_matrix(\n",
        "                        df,\n",
        "                        dimensions=[\n",
        "                            \"sepal_width\",\n",
        "                            \"sepal_length\",\n",
        "                            \"petal_width\",\n",
        "                            \"petal_length\",\n",
        "                        ],\n",
        "                        color=\"species\",\n",
        "                        title=\"scatteplot with px\",\n",
        "                    ),  # Grafica matriz scater plot\n",
        "                ),\n",
        "                dcc.Graph(  # Seccion Grafica\n",
        "                    id=\"example-graph-histmarginal-px\",  # id Grafica\n",
        "                    config={\n",
        "                        \"displayModeBar\": False\n",
        "                    },  # Opciones de configuración de Plotly.js.(config es un dictado con claves)\n",
        "                    # displayModeBar muestra la barra de modo (True, False o 'hover').\n",
        "                    animate=True,  # Activa Funcion animada de ploty\n",
        "                    figure=px.histogram(\n",
        "                        df,\n",
        "                        x=\"sepal_length\",\n",
        "                        y=\"sepal_width\",\n",
        "                        color=\"species\",\n",
        "                        marginal=\"box\",\n",
        "                        title=\"Scatterplot with marginal graf x, y in px\",\n",
        "                    ),  # Historagama con grafica marginal boxplot\n",
        "                ),\n",
        "                html.H3(\n",
        "                    children=\"Graficas interactivas(Callback)\",\n",
        "                    style={\n",
        "                        \"textAlign\": \"center\",\n",
        "                        \"color\": \"#0D6080\",\n",
        "                    },  # La funcion style nos permite personalizar la estetica del documento\n",
        "                ),  # Crecion del titulo(Encabezado)\n",
        "                dcc.Dropdown(\n",
        "                    id=\"dropdown\",  # id Multi-Select Dropdown\n",
        "                    options=[{\"label\": x, \"value\": x} for x in all_dims],\n",
        "                    value=all_dims[:2],\n",
        "                    multi=True,\n",
        "                ),\n",
        "                dcc.Graph(id=\"splom\"),  # id Grafica\n",
        "                dcc.Graph(id=\"graph\"),  # id Grafica\n",
        "                html.P(\"Select Distribution:\"),\n",
        "                dcc.RadioItems(\n",
        "                    id=\"dist-marginal\",  # id Checkboxes\n",
        "                    options=[\n",
        "                        {\"label\": x, \"value\": x} for x in [\"box\", \"rug\", \"violin\"]\n",
        "                    ],\n",
        "                    value=\"box\",\n",
        "                ),\n",
        "            ],\n",
        "            style={\"columnCount\": 2},\n",
        "        ),  # Estilo 2 columnas\n",
        "    ]\n",
        ")\n",
        "\n",
        "@app.callback(Output(\"splom\", \"figure\"), [Input(\"dropdown\", \"value\")])  # id Grafica\n",
        "def update_bar_chart(dims):\n",
        "    fig = px.scatter_matrix(df, dimensions=dims, color=\"species\")\n",
        "    return fig\n",
        "\n",
        "@app.callback(\n",
        "    Output(\"graph\", \"figure\"), [Input(\"dist-marginal\", \"value\")]  # id Grafica\n",
        ")\n",
        "def display_graph(marginal):\n",
        "    fig = px.histogram(\n",
        "        df,\n",
        "        x=\"sepal_length\",\n",
        "        y=\"sepal_width\",\n",
        "        color=\"species\",\n",
        "        marginal=marginal,\n",
        "        hover_data=df.columns,\n",
        "    )\n",
        "    return fig\n",
        "\n",
        "app.run_server(mode=\"inline\", port=8050)\n",
        "\n",
        "# 636EFB violeta graf \n",
        "# EF553B naranja graf\n",
        "# 00CD95 verde graf\n",
        "# 004D38 Verde cool\n"
      ],
      "execution_count": null,
      "outputs": [
        {
          "output_type": "display_data",
          "data": {
            "application/javascript": [
              "(async (port, path, width, height, cache, element) => {\n",
              "    if (!google.colab.kernel.accessAllowed && !cache) {\n",
              "      return;\n",
              "    }\n",
              "    element.appendChild(document.createTextNode(''));\n",
              "    const url = await google.colab.kernel.proxyPort(port, {cache});\n",
              "    const iframe = document.createElement('iframe');\n",
              "    iframe.src = new URL(path, url).toString();\n",
              "    iframe.height = height;\n",
              "    iframe.width = width;\n",
              "    iframe.style.border = 0;\n",
              "    element.appendChild(iframe);\n",
              "  })(8050, \"/\", \"100%\", 650, false, window.element)"
            ],
            "text/plain": [
              "<IPython.core.display.Javascript object>"
            ]
          },
          "metadata": {}
        }
      ]
    },
    {
      "cell_type": "markdown",
      "metadata": {
        "id": "O1cJ5KlXPdU0"
      },
      "source": [
        "Ir a este link para ver página"
      ]
    },
    {
      "cell_type": "code",
      "metadata": {
        "id": "0hEHb8sZ-Bab",
        "colab": {
          "base_uri": "https://localhost:8080/",
          "height": 36
        },
        "outputId": "8f5b1153-38a4-461b-aab5-1050943295ae"
      },
      "source": [
        "url"
      ],
      "execution_count": null,
      "outputs": [
        {
          "output_type": "execute_result",
          "data": {
            "application/vnd.google.colaboratory.intrinsic+json": {
              "type": "string"
            },
            "text/plain": [
              "'https://490b-34-80-40-144.ngrok.io'"
            ]
          },
          "metadata": {},
          "execution_count": 14
        }
      ]
    },
    {
      "cell_type": "code",
      "metadata": {
        "id": "Q1oP3WYSspsc"
      },
      "source": [
        ""
      ],
      "execution_count": null,
      "outputs": []
    }
  ]
}