{
  "nbformat": 4,
  "nbformat_minor": 0,
  "metadata": {
    "colab": {
      "name": "Hello Word of Dash.ipynb",
      "provenance": [],
      "collapsed_sections": [],
      "include_colab_link": true
    },
    "kernelspec": {
      "name": "python3",
      "display_name": "Python 3"
    },
    "language_info": {
      "name": "python"
    }
  },
  "cells": [
    {
      "cell_type": "markdown",
      "metadata": {
        "id": "view-in-github",
        "colab_type": "text"
      },
      "source": [
        "<a href=\"https://colab.research.google.com/github/Immaczx/Dash_whit_plotly/blob/main/Hello_Word_of_Dash.ipynb\" target=\"_parent\"><img src=\"https://colab.research.google.com/assets/colab-badge.svg\" alt=\"Open In Colab\"/></a>"
      ]
    },
    {
      "cell_type": "markdown",
      "metadata": {
        "id": "e1GVqr1W0drZ"
      },
      "source": [
        "# Instalar componetes para usar Dash en colab\n",
        "\n"
      ]
    },
    {
      "cell_type": "code",
      "metadata": {
        "id": "xYtZ7Fu10a-n",
        "outputId": "8e80b5f4-8084-4886-8ab0-0c9083d868f6",
        "colab": {
          "base_uri": "https://localhost:8080/"
        }
      },
      "source": [
        "pip install jupyter-dash -q "
      ],
      "execution_count": 1,
      "outputs": [
        {
          "output_type": "stream",
          "text": [
            "\u001b[K     |████████████████████████████████| 81kB 3.3MB/s \n",
            "\u001b[K     |████████████████████████████████| 1.0MB 27.6MB/s \n",
            "\u001b[K     |████████████████████████████████| 3.5MB 25.3MB/s \n",
            "\u001b[K     |████████████████████████████████| 92kB 9.1MB/s \n",
            "\u001b[K     |████████████████████████████████| 1.8MB 49.2MB/s \n",
            "\u001b[K     |████████████████████████████████| 358kB 45.8MB/s \n",
            "\u001b[?25h  Building wheel for dash (setup.py) ... \u001b[?25l\u001b[?25hdone\n",
            "  Building wheel for dash-renderer (setup.py) ... \u001b[?25l\u001b[?25hdone\n",
            "  Building wheel for dash-core-components (setup.py) ... \u001b[?25l\u001b[?25hdone\n",
            "  Building wheel for dash-html-components (setup.py) ... \u001b[?25l\u001b[?25hdone\n",
            "  Building wheel for dash-table (setup.py) ... \u001b[?25l\u001b[?25hdone\n"
          ],
          "name": "stdout"
        }
      ]
    },
    {
      "cell_type": "code",
      "metadata": {
        "id": "zhC0WKODZoIf",
        "outputId": "76371a49-ac11-43d9-dd47-f5cf2ae9f06c",
        "colab": {
          "base_uri": "https://localhost:8080/"
        }
      },
      "source": [
        "pip install dash-cytoscape -q"
      ],
      "execution_count": 2,
      "outputs": [
        {
          "output_type": "stream",
          "text": [
            "\u001b[K     |████████████████████████████████| 3.6MB 5.3MB/s \n",
            "\u001b[?25h"
          ],
          "name": "stdout"
        }
      ]
    },
    {
      "cell_type": "code",
      "metadata": {
        "colab": {
          "base_uri": "https://localhost:8080/"
        },
        "id": "_vUdMXL13V_u",
        "outputId": "d23c3724-7237-476f-83f7-698ab8eb3ea6"
      },
      "source": [
        "! pip install pyngrok"
      ],
      "execution_count": 3,
      "outputs": [
        {
          "output_type": "stream",
          "text": [
            "Collecting pyngrok\n",
            "\u001b[?25l  Downloading https://files.pythonhosted.org/packages/6b/4e/a2fe095bbe17cf26424c4abcd22a0490e22d01cc628f25af5e220ddbf6f0/pyngrok-5.0.5.tar.gz (745kB)\n",
            "\u001b[K     |████████████████████████████████| 747kB 4.2MB/s \n",
            "\u001b[?25hRequirement already satisfied: PyYAML in /usr/local/lib/python3.7/dist-packages (from pyngrok) (3.13)\n",
            "Building wheels for collected packages: pyngrok\n",
            "  Building wheel for pyngrok (setup.py) ... \u001b[?25l\u001b[?25hdone\n",
            "  Created wheel for pyngrok: filename=pyngrok-5.0.5-cp37-none-any.whl size=19262 sha256=1c4a0ee75573da638d57fe28397cdf693a1edcfedaf969bb08a6601eab87d53b\n",
            "  Stored in directory: /root/.cache/pip/wheels/0c/13/64/5ebbcc22eaf53fdf5766b397c1fb17c83f5775fdccf0ea1b88\n",
            "Successfully built pyngrok\n",
            "Installing collected packages: pyngrok\n",
            "Successfully installed pyngrok-5.0.5\n"
          ],
          "name": "stdout"
        }
      ]
    },
    {
      "cell_type": "markdown",
      "metadata": {
        "id": "tkW8xKp23Eno"
      },
      "source": [
        "## Importar librerías"
      ]
    },
    {
      "cell_type": "code",
      "metadata": {
        "id": "-4rH0iz11n-Y"
      },
      "source": [
        "#import base64"
      ],
      "execution_count": 4,
      "outputs": []
    },
    {
      "cell_type": "markdown",
      "metadata": {
        "id": "to7oxUQ54oEO"
      },
      "source": [
        "# Configurar Nkrok"
      ]
    },
    {
      "cell_type": "code",
      "metadata": {
        "id": "ImOI61hY4q-m"
      },
      "source": [
        "import requests\n",
        "# download ngrok first\n",
        "!wget https://bin.equinox.io/c/4VmDzA7iaHb/ngrok-stable-linux-amd64.zip -q\n",
        "!unzip -q ngrok-stable-linux-amd64.zip"
      ],
      "execution_count": 5,
      "outputs": []
    },
    {
      "cell_type": "markdown",
      "metadata": {
        "id": "M3GaOy3j4yBG"
      },
      "source": [
        "Link en el que se verá la app"
      ]
    },
    {
      "cell_type": "code",
      "metadata": {
        "id": "6uf9fDQiOu7s",
        "colab": {
          "base_uri": "https://localhost:8080/",
          "height": 34
        },
        "outputId": "af5bc578-e86a-474f-a21f-aa18e2fa1b2f"
      },
      "source": [
        "get_ipython().system_raw(\"./ngrok http 8050 &\")\n",
        "# check public url\n",
        "import time\n",
        "\n",
        "time.sleep(3)\n",
        "r = requests.get(\"http://localhost:4040/api/tunnels\")\n",
        "url = r.json()[\"tunnels\"][0][\"public_url\"]\n",
        "url\n"
      ],
      "execution_count": 6,
      "outputs": [
        {
          "output_type": "execute_result",
          "data": {
            "application/vnd.google.colaboratory.intrinsic+json": {
              "type": "string"
            },
            "text/plain": [
              "'http://bd74a3d0f0a6.ngrok.io'"
            ]
          },
          "metadata": {
            "tags": []
          },
          "execution_count": 6
        }
      ]
    },
    {
      "cell_type": "markdown",
      "metadata": {
        "id": "wP1IALuO41Ku"
      },
      "source": [
        "# Mostrar en dash"
      ]
    },
    {
      "cell_type": "code",
      "metadata": {
        "id": "YOsUvc279ose"
      },
      "source": [
        "#! wget --no-check-certificate --content-disposition -O logo.png https://i.pinimg.com/originals/98/3d/fb/983dfbcc82b24dd28b2e6dc4aeec7c79.png"
      ],
      "execution_count": 7,
      "outputs": []
    },
    {
      "cell_type": "code",
      "metadata": {
        "colab": {
          "base_uri": "https://localhost:8080/",
          "height": 671
        },
        "id": "-GfFZVzH3T2y",
        "outputId": "ed32b3fe-c6f0-43d0-cebf-b95b9e19bdb1"
      },
      "source": [
        "from jupyter_dash import JupyterDash  # pip install dash\n",
        "import dash_cytoscape as cyto  # pip install dash-cytoscape==0.2.0 or higher\n",
        "import dash\n",
        "import dash_html_components as html\n",
        "import dash_core_components as dcc\n",
        "from dash.dependencies import Output, Input\n",
        "import plotly.express as px\n",
        "import plotly.graph_objects as go\n",
        "from dash import no_update\n",
        "import pandas as pd  # pip install pandas\n",
        "\n",
        "external_stylesheets = [\"https://codepen.io/chriddyp/pen/bWLwgP.css\"]\n",
        "\n",
        "df = px.data.iris()  # Dase de datos iris\n",
        "\n",
        "all_dims = [\n",
        "    \"sepal_width\",\n",
        "    \"sepal_length\",  # Vector para callback interactivo en multyplot sacatter\n",
        "    \"petal_width\",\n",
        "    \"petal_length\",\n",
        "]\n",
        "\n",
        "app = JupyterDash(\n",
        "    __name__, external_stylesheets=external_stylesheets\n",
        ")  # Crear objeto JupyterDash Para visualisacion en el entorno\n",
        "# Crear un layout para contener el texto y graficas.\n",
        "# Crea Div para separar secciones, no tiene ningún efecto sobre el contenido o el diseño hasta que se le aplica estilo usando CSS.\n",
        "app.layout = html.Div(\n",
        "    children=[\n",
        "        html.H1(\n",
        "            children=\"Hello Word of Dash\",\n",
        "            style={\n",
        "                \"textAlign\": \"center\",\n",
        "                \"color\": \"#0D6080\",\n",
        "            },  # La funcion style nos permite personalizar la estetica del documento\n",
        "        ),  # Crecion del titulo(Encabezado)\n",
        "        html.P(\n",
        "            children=[\n",
        "                \"\"\"\n",
        "                Dash: Es un framework de código abierto para crear interfaces de visualización de datos, \n",
        "                formalmente Dash fue lanzado como una biblioteca de código abierto para crear visualizaciones \n",
        "                interactivas basadas en la Web y se construyó sobre Flask, Plotly.js y React Js, \n",
        "                Este ha crecido para incluir implementaciones para R y Julia. \n",
        "                Pero no tiene que preocuparse por hacer que todas estas tecnologías funcionen juntas, \n",
        "                dash permite crear paneles utilizando Python puro. Tener conocimientos de HTML y javascript es útil, \n",
        "                pero ciertamente no es necesario para obtener una buena visualización, \n",
        "                solo necesita escribir Python, R o Julia y espolvorearlo con un poco de CSS.\n",
        "                \"\"\"\n",
        "            ],\n",
        "            style={\"textAlign\": \"center\", \"color\": \"#004D38\"},\n",
        "        ),  # Creacion Parrafo\n",
        "        dcc.Markdown(\n",
        "            children=[\n",
        "                \"\"\"\n",
        "                            Este Dash se hizo con la intencion de dar una guia clara para la facil comprencion de \n",
        "                            estructura, implementacion y posibilidad de la libreria Dash en la creacion de Dashboards. \n",
        "                            En el siguinete link a colab, encontramos el codigo usado para la creacion de este documento, \n",
        "                            la idea es que al leer este dash y posteriormente ver el codigo comentado puedan indentificar rapidamente\n",
        "                            las parte que lo componen y su funcionalidad.\n",
        "\n",
        "                            https://colab.research.google.com/drive/1W7JpEvu13Ed9sDlPc5h_YBMDgLO0G2NB?usp=sharing\n",
        "\n",
        "                            ##### Links usados para el tutorial\n",
        "\n",
        "                            https://dash.plotly.com/layout\n",
        "\n",
        "                            https://pbpython.com/plotly-dash-intro.html\n",
        "                            \n",
        "                            https://realpython.com/python-dash/#what-is-dash\n",
        "\n",
        "                            https://www.datacamp.com/community/tutorials/learn-build-dash-python\n",
        "\n",
        "                            https://www.youtube.com/watch?v=FxEY1NOyhYQ\n",
        "\n",
        "                            ## Html components\n",
        "\n",
        "                            Para hablar de la creacion de visualisaciones en Dash hay que hablar un poco de como costruir con HTML,\n",
        "                            donde necesitaremos un layout, que contenga bloques(textos y graficas) que querramos incluir mediente el uso de etiquetas\n",
        "                            son similares a la forma que utilizamos para manipular contenido en latex.\n",
        "                            Pero en lugar de escribir HTML o usar un motor de plantillas HTML, \n",
        "                            compondremos nuestro diseño usando estructuras de Python con la dash-html-componentsbiblioteca.\n",
        "                            Con esta opcion podremos crear graficas y texto simple como el titulo de este documento y el parrafo anterrior.\n",
        "\n",
        "                            ##### En el siguiente link se encuentran ejemplos ilustrativos de como hacerlo.\n",
        "\n",
        "                            https://dash.plotly.com/dash-html-components\n",
        "\n",
        "\n",
        "                            ### Dash and Markdown\n",
        "\n",
        "                            Dash nos ofrece una opcion de usar Markdowns como en los notebooks estos es usas cuando es nesesario incluir mucho texto\n",
        "                            como en estre caso apartir del segundo parrafo se esta usando esta herramienta.\n",
        "\n",
        "                            ## Graficas\n",
        "\n",
        "                            Los graficos seran el componentes de principal interes ya que un dashboard es una herramienta de gestión de la información \n",
        "                            que muestra de manera visual los indicadores clave de desempeño (KPI).\n",
        "                            Asi que nesesitaremos formas vistosas y eficientes para mostrar estos (KPI), dash ofrece diferentes librerias para graficos\n",
        "                            ademas de la opcion de los callbacks para graficas interactivas.\n",
        "\n",
        "                            ##### En el siguiente link se encuentran ejemplos de otras graficas.\n",
        "\n",
        "                            https://dash.plotly.com/dash-core-components/graph\n",
        "\n",
        "                            \"\"\"\n",
        "            ],\n",
        "            style={\"textAlign\": \"center\", \"color\": \"#000000\"},\n",
        "        ),  # Implemetacion de texto con Markdown\n",
        "        html.Div(\n",
        "            [\n",
        "                html.H2(\n",
        "                    children=\"Graficas con funciones(plotly.graph_objects)\",  # Crear subtitulo(los encabezados reduciran su tamaño al aumentar el numero al lado del H)\n",
        "                    style={\n",
        "                        \"textAlign\": \"center\",\n",
        "                        \"color\": \"#0D6080\",\n",
        "                    },  # La funcion style nos permite personalizar la estetica del documento\n",
        "                ),  # Crecion del titulo(Encabezado)\n",
        "                html.P(\n",
        "                    children=[\n",
        "                        \"Clases de Python que representan partes de una figura.\",\n",
        "                        html.Br(),\n",
        "                        html.Br(),\n",
        "                        html.A(\n",
        "                            \"https://plotly.com/python/graph-objects/\",\n",
        "                            href=\"https://plotly.com/python/graph-objects/\",\n",
        "                        ),\n",
        "                    ],\n",
        "                    style={\"textAlign\": \"center\", \"color\": \"#000000\"},\n",
        "                ),  # Creacion Parrafo\n",
        "                dcc.Graph(  # Seccion Grafica\n",
        "                    id=\"example-graph\",  # id Grafica\n",
        "                    figure=go.Figure(data=[  # Grafica barras tipo Go\n",
        "                          go.Bar(x=df.index, y=df.sepal_width, name='sepal_width'), \n",
        "                          go.Bar(x=df.index, y=df.sepal_length, name='sepal_length')], \n",
        "                          layout=go.Layout(title=\"Bar diagram with go\")),\n",
        "                ),\n",
        "                dcc.Graph(  # Seccion Grafica\n",
        "                    id=\"example-graph-boxplot\",  # id Grafica\n",
        "                    figure=go.Figure(data=[  # Grafica barras tipo Go\n",
        "                          go.Box(y=df.sepal_width, name='sepal_width'), \n",
        "                          go.Box(y=df.sepal_length, name='sepal_length')], \n",
        "                          layout=go.Layout(title=\"Boxplot with go\")),\n",
        "                ),\n",
        "                dcc.Graph(  # Seccion Grafica\n",
        "                    id=\"example-graph-histogram\",  # id Grafica\n",
        "                    figure=go.Figure(data=[  # Grafica barras tipo Go\n",
        "                          go.Histogram(x=df.sepal_width)], \n",
        "                          layout=go.Layout(title=\"Histogram with go\")),\n",
        "                ),\n",
        "                html.H2(\n",
        "                    children=\"Graficas con funciones(plotly.express)\",\n",
        "                    style={\n",
        "                        \"textAlign\": \"center\",\n",
        "                        \"color\": \"#0D6080\",\n",
        "                    },  # La funcion style nos permite personalizar la estetica del documento\n",
        "                ),  # Crecion del titulo(Encabezado)\n",
        "                html.P(\n",
        "                    children=[\n",
        "                        \"Plotly Express es una API concisa, consistente y de alto nivel para crear figuras.\",\n",
        "                        html.Br(),\n",
        "                        html.A(\n",
        "                            \"https://plotly.com/python/plotly-express/\",\n",
        "                            href=\"https://plotly.com/python/plotly-express/\",\n",
        "                        ),\n",
        "                    ],\n",
        "                    style={\"textAlign\": \"center\", \"color\": \"#000000\"},\n",
        "                ),  # Creacion Parrafo\n",
        "                dcc.Graph(  # Seccion Grafica\n",
        "                    id=\"example-graph-px\",  # id Grafica\n",
        "                    config={\n",
        "                        \"displayModeBar\": False\n",
        "                    },  # Opciones de configuración de Plotly.js.(config es un dictado con claves)\n",
        "                    # displayModeBar muestra la barra de modo (True, False o 'hover').\n",
        "                    animate=True,  # Activa Funcion animada de ploty\n",
        "                    figure=px.bar(\n",
        "                        df,\n",
        "                        x=df.index,\n",
        "                        y=\"sepal_width\",\n",
        "                        color=df.species,\n",
        "                        title=\"Bar diagram with px\",\n",
        "                    ),  # Grafica Barras con Funciones\n",
        "                ),\n",
        "                dcc.Graph(  # Seccion Grafica\n",
        "                    id=\"example-graph-boxplot-px\",  # id Grafica\n",
        "                    config={\n",
        "                        \"displayModeBar\": False\n",
        "                    },  # Opciones de configuración de Plotly.js.(config es un dictado con claves)\n",
        "                    # displayModeBar muestra la barra de modo (True, False o 'hover').\n",
        "                    animate=True,  # Activa Funcion animada de ploty\n",
        "                    figure=px.box(\n",
        "                        df, y=\"sepal_width\", color=df.species, title=\"Boxplot with px\"\n",
        "                    ),  # Boxplot con Funciones\n",
        "                ),\n",
        "                dcc.Graph(  # Seccion Grafica\n",
        "                    id=\"example-graph-histogram-px\",  # id Grafica\n",
        "                    config={\n",
        "                        \"displayModeBar\": False\n",
        "                    },  # Opciones de configuración de Plotly.js.(config es un dictado con claves)\n",
        "                    # displayModeBar muestra la barra de modo (True, False o 'hover').\n",
        "                    animate=True,  # Activa Funcion animada de ploty\n",
        "                    figure=px.histogram(\n",
        "                        df, x=\"sepal_length\", y=\"sepal_width\", title=\"Histogram with px\"\n",
        "                    ),  # Histograma con Funciones\n",
        "                ),\n",
        "            ],\n",
        "            style={\"columnCount\": 2},\n",
        "        ),  # Estilo 2 columnas\n",
        "        html.Div(\n",
        "            [\n",
        "                html.H2(\n",
        "                    children=\"Graficas mas elaboradas\",\n",
        "                    style={\n",
        "                        \"textAlign\": \"center\",\n",
        "                        \"color\": \"#0D6080\",\n",
        "                    },  # La funcion style nos permite personalizar la estetica del documento\n",
        "                ),  # Crecion del titulo(Encabezado)\n",
        "                html.P(\n",
        "                    children=[\n",
        "                        \"La ventaja de usar funciones es que se pueden crear graficas mas complejas con poco codigo como las siguientes\",\n",
        "                        html.Br(),\n",
        "                        \"en las cuales vemos gran cantidad de datos y estas permiten una implemtacion facil y rapida de los Callback.\",\n",
        "                        html.Br(),\n",
        "                        html.A(\n",
        "                            \"https://plotly.com/python/\",\n",
        "                            href=\"https://plotly.com/python/\",\n",
        "                        ),\n",
        "                        html.Br(),\n",
        "                        html.A(\n",
        "                            \"https://plotly.com/python/statistical-charts/\",\n",
        "                            href=\"https://plotly.com/python/statistical-charts/\",\n",
        "                        ),\n",
        "                        html.Br(),\n",
        "                        html.A(\n",
        "                            \"https://plotly.com/python/ai-ml/\",\n",
        "                            href=\"https://plotly.com/python/ai-ml/\",\n",
        "                        ),\n",
        "                    ],\n",
        "                    style={\"textAlign\": \"center\", \"color\": \"#000000\"},\n",
        "                ),  # Creacion Parrafo\n",
        "                dcc.Graph(  # Seccion Grafica\n",
        "                    id=\"example-graph-multyscatter-px\",  # id Grafica\n",
        "                    config={\n",
        "                        \"displayModeBar\": False\n",
        "                    },  # Opciones de configuración de Plotly.js.(config es un dictado con claves)\n",
        "                    # displayModeBar muestra la barra de modo (True, False o 'hover').\n",
        "                    animate=True,  # Activa Funcion animada de ploty\n",
        "                    figure=px.scatter_matrix(\n",
        "                        df,\n",
        "                        dimensions=[\n",
        "                            \"sepal_width\",\n",
        "                            \"sepal_length\",\n",
        "                            \"petal_width\",\n",
        "                            \"petal_length\",\n",
        "                        ],\n",
        "                        color=\"species\",\n",
        "                        title=\"scatteplot with px\",\n",
        "                    ),  # Grafica matriz scater plot\n",
        "                ),\n",
        "                dcc.Graph(  # Seccion Grafica\n",
        "                    id=\"example-graph-histmarginal-px\",  # id Grafica\n",
        "                    config={\n",
        "                        \"displayModeBar\": False\n",
        "                    },  # Opciones de configuración de Plotly.js.(config es un dictado con claves)\n",
        "                    # displayModeBar muestra la barra de modo (True, False o 'hover').\n",
        "                    animate=True,  # Activa Funcion animada de ploty\n",
        "                    figure=px.histogram(\n",
        "                        df,\n",
        "                        x=\"sepal_length\",\n",
        "                        y=\"sepal_width\",\n",
        "                        color=\"species\",\n",
        "                        marginal=\"box\",\n",
        "                        title=\"Scatterplot with marginal graf x, y in px\",\n",
        "                    ),  # Historagama con grafica marginal boxplot\n",
        "                ),\n",
        "                html.H3(\n",
        "                    children=\"Graficas interactivas(Callback)\",\n",
        "                    style={\n",
        "                        \"textAlign\": \"center\",\n",
        "                        \"color\": \"#0D6080\",\n",
        "                    },  # La funcion style nos permite personalizar la estetica del documento\n",
        "                ),  # Crecion del titulo(Encabezado)\n",
        "                dcc.Dropdown(\n",
        "                    id=\"dropdown\",  # id Multi-Select Dropdown\n",
        "                    options=[{\"label\": x, \"value\": x} for x in all_dims],\n",
        "                    value=all_dims[:2],\n",
        "                    multi=True,\n",
        "                ),\n",
        "                dcc.Graph(id=\"splom\"),  # id Grafica\n",
        "                dcc.Graph(id=\"graph\"),  # id Grafica\n",
        "                html.P(\"Select Distribution:\"),\n",
        "                dcc.RadioItems(\n",
        "                    id=\"dist-marginal\",  # id Checkboxes\n",
        "                    options=[\n",
        "                        {\"label\": x, \"value\": x} for x in [\"box\", \"rug\", \"violin\"]\n",
        "                    ],\n",
        "                    value=\"box\",\n",
        "                ),\n",
        "            ],\n",
        "            style={\"columnCount\": 2},\n",
        "        ),  # Estilo 2 columnas\n",
        "    ]\n",
        ")\n",
        "\n",
        "@app.callback(Output(\"splom\", \"figure\"), [Input(\"dropdown\", \"value\")])  # id Grafica\n",
        "def update_bar_chart(dims):\n",
        "    fig = px.scatter_matrix(df, dimensions=dims, color=\"species\")\n",
        "    return fig\n",
        "\n",
        "@app.callback(\n",
        "    Output(\"graph\", \"figure\"), [Input(\"dist-marginal\", \"value\")]  # id Grafica\n",
        ")\n",
        "def display_graph(marginal):\n",
        "    fig = px.histogram(\n",
        "        df,\n",
        "        x=\"sepal_length\",\n",
        "        y=\"sepal_width\",\n",
        "        color=\"species\",\n",
        "        marginal=marginal,\n",
        "        hover_data=df.columns,\n",
        "    )\n",
        "    return fig\n",
        "\n",
        "app.run_server(mode=\"inline\", port=8050)\n",
        "\n",
        "# 636EFB violeta graf \n",
        "# EF553B naranja graf\n",
        "# 00CD95 verde graf\n",
        "# 004D38 Verde cool\n"
      ],
      "execution_count": 10,
      "outputs": [
        {
          "output_type": "display_data",
          "data": {
            "application/javascript": [
              "(async (port, path, width, height, cache, element) => {\n",
              "    if (!google.colab.kernel.accessAllowed && !cache) {\n",
              "      return;\n",
              "    }\n",
              "    element.appendChild(document.createTextNode(''));\n",
              "    const url = await google.colab.kernel.proxyPort(port, {cache});\n",
              "    const iframe = document.createElement('iframe');\n",
              "    iframe.src = new URL(path, url).toString();\n",
              "    iframe.height = height;\n",
              "    iframe.width = width;\n",
              "    iframe.style.border = 0;\n",
              "    element.appendChild(iframe);\n",
              "  })(8050, \"/\", \"100%\", 650, false, window.element)"
            ],
            "text/plain": [
              "<IPython.core.display.Javascript object>"
            ]
          },
          "metadata": {
            "tags": []
          }
        }
      ]
    },
    {
      "cell_type": "markdown",
      "metadata": {
        "id": "O1cJ5KlXPdU0"
      },
      "source": [
        "Ir a este link para ver página"
      ]
    },
    {
      "cell_type": "code",
      "metadata": {
        "id": "0hEHb8sZ-Bab",
        "colab": {
          "base_uri": "https://localhost:8080/",
          "height": 34
        },
        "outputId": "296fb057-b500-4785-d1ea-a95acd507617"
      },
      "source": [
        "url"
      ],
      "execution_count": 9,
      "outputs": [
        {
          "output_type": "execute_result",
          "data": {
            "application/vnd.google.colaboratory.intrinsic+json": {
              "type": "string"
            },
            "text/plain": [
              "'http://bd74a3d0f0a6.ngrok.io'"
            ]
          },
          "metadata": {
            "tags": []
          },
          "execution_count": 9
        }
      ]
    },
    {
      "cell_type": "code",
      "metadata": {
        "id": "JsJZY158Pf5Y"
      },
      "source": [
        ""
      ],
      "execution_count": 9,
      "outputs": []
    }
  ]
}